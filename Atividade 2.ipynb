{
 "cells": [
  {
   "cell_type": "markdown",
   "metadata": {},
   "source": [
    "1 Crie um programa que recebe uma lista de números e\n",
    "- retorne o maior elemento\n",
    "- retorne a soma dos elementos\n",
    "- retorne o número de ocorrências do primeiro elemento da lista\n",
    "- retorne a média dos elementos\n",
    "- retorne o valor mais próximo da média dos elementos\n",
    "- retorne a soma dos elementos com valor negativo\n",
    "- retorne a quantidade de vizinhos iguais"
   ]
  },
  {
   "cell_type": "code",
   "execution_count": 26,
   "metadata": {
    "scrolled": true
   },
   "outputs": [
    {
     "name": "stdout",
     "output_type": "stream",
     "text": [
      "O maior elemento é 30\n",
      "A soma de todos os elementos é 134\n",
      "Número de ocorrencias de (1, 1)\n",
      "Soma dos elementos negativos: 0\n",
      "Vizinhos iguais: 0\n",
      "A media dos elemnetos é 13.4\n",
      "O numero mais proximo da media: 10\n"
     ]
    }
   ],
   "source": [
    "lista = [1,4,6,7,9,10,17,21,29,30]\n",
    "numocorrencia = 0\n",
    "vizinho = 0\n",
    "anterior = lista[0] + 1\n",
    "somaneg = 0\n",
    "maior = max(lista, key=int)\n",
    "print (\"O maior elemento é\",maior)\n",
    "soma = sum(lista)\n",
    "print (\"A soma de todos os elementos é\",soma)\n",
    "for num in lista :\n",
    "    if num == lista[0]:\n",
    "        numocorrencia += 1\n",
    "    if num < 0 :\n",
    "        somaneg += num\n",
    "    if num == anterior:\n",
    "        vizinho += 1\n",
    "        anterior = num\n",
    "print (\"Número de ocorrencias de\", (lista[0],numocorrencia))\n",
    "print (\"Soma dos elementos negativos:\", somaneg)\n",
    "print (\"Vizinhos iguais:\", vizinho)\n",
    "qtd = len (lista)\n",
    "media = soma / qtd\n",
    "print (\"A media dos elemnetos é\",media)\n",
    "maisproximo = lista[0]\n",
    "diferenca = media - lista[0]\n",
    "menordiferenca = diferenca\n",
    "for num in lista :\n",
    "    diferenca = media - num \n",
    "    if diferenca < 0 :\n",
    "        diferenca = diferenca * -1\n",
    "    if diferenca < menordiferenca :\n",
    "        menordiferenca = diferenca\n",
    "        maisproximo = num\n",
    "print (\"O numero mais proximo da media:\", maisproximo)"
   ]
  },
  {
   "cell_type": "markdown",
   "metadata": {},
   "source": [
    "2 Faça um programa que receba duas listas e retorne True se são iguais ou False caso\n",
    "contrario.\n",
    "Duas listas são iguais se possuem os mesmos valores e na mesma ordem."
   ]
  },
  {
   "cell_type": "code",
   "execution_count": 2,
   "metadata": {},
   "outputs": [
    {
     "name": "stdout",
     "output_type": "stream",
     "text": [
      "Não são iguais\n"
     ]
    }
   ],
   "source": [
    "lista1 = [1,2,3,4,5,6,]\n",
    "lista2 = [1,2,3,4,5,7,]\n",
    "if (lista1 == lista2):\n",
    "    print (\"São iguais\")\n",
    "else :\n",
    "    print (\"Não são iguais\")\n"
   ]
  },
  {
   "cell_type": "markdown",
   "metadata": {},
   "source": [
    "3 Faça um programa que receba duas listas e retorne True se têm os mesmos\n",
    "elementos ou False caso contrário\n",
    "Duas listas possuem os mesmos elementos quando são compostas pelos mesmos\n",
    "valores, mas não obrigatoriamente na mesma ordem."
   ]
  },
  {
   "cell_type": "code",
   "execution_count": 4,
   "metadata": {},
   "outputs": [
    {
     "name": "stdout",
     "output_type": "stream",
     "text": [
      "As listas são iguais\n"
     ]
    }
   ],
   "source": [
    "lista1 = [1,2,3,4,5,6]\n",
    "lista2 = [2,1,6,5,4,3]\n",
    "\n",
    "if lista1 != lista2:\n",
    "    lista2.sort()\n",
    "    lista1 == lista2\n",
    "    print(\"As listas são iguais\")\n",
    "else:\n",
    "    print(\"As listas são diferentes\")"
   ]
  },
  {
   "cell_type": "markdown",
   "metadata": {},
   "source": [
    "4 Faça um programa que percorre uma lista com o seguinte formato: [['Brasil',\n",
    "'Italia', [10, 9]], ['Brasil', 'Espanha', [5, 7]], ['Italia', 'Espanha', [7,8]]]. Essa lista indica o\n",
    "número de faltas que cada time fez em cada jogo. Na lista acima, no jogo entre Brasil\n",
    "e Itália, o Brasil fez 10 faltas e a Itália fez 9.\n",
    "O programa deve imprimir na tela:\n",
    "- o total de faltas do campeonato\n",
    "- o time que fez mais faltas\n",
    "- o time que fez menos faltas"
   ]
  },
  {
   "cell_type": "code",
   "execution_count": 27,
   "metadata": {},
   "outputs": [
    {
     "name": "stdout",
     "output_type": "stream",
     "text": [
      "O total de faltas do campeonato: 46\n"
     ]
    }
   ],
   "source": [
    "lista = [['Brasil','Italia', [10, 9]], ['Brasil', 'Espanha', [5, 7]], ['Italia', 'Espanha', [7,8]]]\n",
    "times = []\n",
    "totalfaltas = 0\n",
    "for jogo in lista:\n",
    "    totalfaltas += jogo[2][0] + jogo[2][1]\n",
    "print (\"O total de faltas do campeonato:\", totalfaltas)"
   ]
  },
  {
   "cell_type": "markdown",
   "metadata": {},
   "source": [
    "5 Escreva um programa que conta a quantidade de vogais em uma string e armazena\n",
    "tal quantidade em um dicionário, onde a chave é a vogal considerada."
   ]
  },
  {
   "cell_type": "code",
   "execution_count": 38,
   "metadata": {},
   "outputs": [
    {
     "name": "stdout",
     "output_type": "stream",
     "text": [
      "Quantidade de a's: 1\n",
      "Quantidade de e's: 1\n",
      "Quantidade de i's: 1\n",
      "Quantidade de o's: 6\n",
      "Quantidade de u's: 0\n"
     ]
    }
   ],
   "source": [
    "str = \"Todo poderoso timao\"\n",
    "dic = {\n",
    "    \"a\" : 0,\n",
    "    \"e\" : 0,\n",
    "    \"i\" : 0,\n",
    "    \"o\" : 0,\n",
    "    \"u\" : 0\n",
    "}\n",
    "for letra in str:\n",
    "    if letra.lower() == \"a\":\n",
    "        dic[\"a\"] += 1\n",
    "    if letra.lower() == \"e\":\n",
    "        dic[\"e\"] += 1\n",
    "    if letra.lower() == \"i\":\n",
    "        dic[\"i\"] += 1\n",
    "    if letra.lower() == \"o\":\n",
    "        dic[\"o\"] += 1\n",
    "    if letra.lower() == \"u\":\n",
    "        dic[\"u\"] += 1\n",
    "print (\"Quantidade de a's:\", dic[\"a\"])\n",
    "print (\"Quantidade de e's:\", dic[\"e\"])\n",
    "print (\"Quantidade de i's:\", dic[\"i\"])\n",
    "print (\"Quantidade de o's:\", dic[\"o\"])\n",
    "print (\"Quantidade de u's:\", dic[\"u\"])"
   ]
  },
  {
   "cell_type": "markdown",
   "metadata": {},
   "source": [
    "6 Escreva um programa que lê̂ duas notas de vários alunos e armazena tais notas em\n",
    "um dicionário, onde a chave é o nome do aluno. A entrada de dados deve terminar\n",
    "quando for lida uma string vazia como nome. Escreva uma função que retorna a\n",
    "média do aluno, dado seu nome."
   ]
  },
  {
   "cell_type": "code",
   "execution_count": 41,
   "metadata": {
    "scrolled": true
   },
   "outputs": [
    {
     "name": "stdout",
     "output_type": "stream",
     "text": [
      "Insira o nome do aluno:maria\n",
      "Digite a primeira nota:9\n",
      "Digite a segunda nota:10\n",
      "Insira o nome do aluno:joao\n",
      "Digite a primeira nota:7\n",
      "Digite a segunda nota:6\n",
      "Insira o nome do aluno:\n",
      "Insera o nome do aluno ao qual voce deseja ver a media:maria\n"
     ]
    },
    {
     "data": {
      "text/plain": [
       "9.5"
      ]
     },
     "execution_count": 41,
     "metadata": {},
     "output_type": "execute_result"
    }
   ],
   "source": [
    "dic = {}\n",
    "nome = input (\"Insira o nome do aluno:\")\n",
    "while nome != \"\":\n",
    "    dic[nome] = [\n",
    "        float(input(\"Digite a primeira nota:\")),\n",
    "        float(input(\"Digite a segunda nota:\"))\n",
    "    ]\n",
    "    nome = input(\"Insira o nome do aluno:\")\n",
    "def media(nome):\n",
    "    return (dic[nome][0] + dic[nome][1])/2\n",
    "media (input(\"Insera o nome do aluno ao qual voce deseja ver a media:\"))"
   ]
  },
  {
   "cell_type": "markdown",
   "metadata": {},
   "source": [
    "7 Uma pista de Kart permite 10 voltas para cada um de 6 corredores. Escreva um\n",
    "programa que leia todos os tempos em segundos e os guarde em um dicionário,\n",
    "onde a chave é o nome do corredor. Ao final diga de quem foi a melhor volta da\n",
    "prova e em que volta; e ainda a classificação final em ordem (1o\n",
    " o campeão). O\n",
    "campeão é o que tem a menor média de tempos."
   ]
  },
  {
   "cell_type": "code",
   "execution_count": 45,
   "metadata": {},
   "outputs": [
    {
     "ename": "SyntaxError",
     "evalue": "unexpected EOF while parsing (<ipython-input-45-a055d94765c5>, line 22)",
     "output_type": "error",
     "traceback": [
      "\u001b[1;36m  File \u001b[1;32m\"<ipython-input-45-a055d94765c5>\"\u001b[1;36m, line \u001b[1;32m22\u001b[0m\n\u001b[1;33m    \u001b[0m\n\u001b[1;37m    ^\u001b[0m\n\u001b[1;31mSyntaxError\u001b[0m\u001b[1;31m:\u001b[0m unexpected EOF while parsing\n"
     ]
    }
   ],
   "source": [
    "import operator\n",
    "dic = {\n",
    "        \"Jailson\": [57, 58, 60, 56, 64, 70, 59, 58, 69, 55],\n",
    "        \"Joao\": [56, 60, 72, 50, 67, 58, 61, 63, 62, 59],\n",
    "        \"Batista\": [79, 52, 58, 48, 58, 59, 61, 65, 59, 60],\n",
    "        \"Rodolfo\": [56, 50, 55, 70, 85, 73, 68, 65, 56, 60],\n",
    "        \"Marcos\": [69, 55, 67, 50, 52, 53, 70, 75, 65, 56],\n",
    "        \"Roger\": [56, 63, 63, 65, 70, 59, 55, 60, 63, 62],\n",
    "}\n",
    "volta = 0\n",
    "medias = dic\n",
    "nome = \"\"\n",
    "melhor_volta = dic[\"Jailson\"][0]\n",
    "for chave in dic:\n",
    "    if num < melhor_volta:\n",
    "        melhor_volta = num\n",
    "        nome = chave\n",
    "    soma += num\n",
    "medias[chave] = soma/10\n",
    "sort = sorted(medias.items(), key=operator.itemgetter(1))\n",
    "for i in range (0, 6): \n",
    "    "
   ]
  },
  {
   "cell_type": "markdown",
   "metadata": {},
   "source": [
    "8 Escreva um programa para armazenar uma agenda de telefones em um dicionário.\n",
    "Cada pessoa pode ter um ou mais telefones e a chave do dicionário é o nome da\n",
    "pessoa. Seu programa deve ter as seguintes funções:\n",
    "- incluirNovoNome – essa função acrescenta um novo nome na agenda, com um ou\n",
    "mais telefones. Ela deve receber como argumentos o nome e os telefones.\n",
    "- incluirTelefone – essa função acrescenta um telefone em um nome existente na\n",
    "agenda. Caso o nome não exista na agenda, você̂ deve perguntar se a pessoa deseja\n",
    "inclui-lo. Caso a resposta seja afirmativa, use a função anterior para incluir o novo\n",
    "nome.\n",
    "- excluirTelefone – essa função exclui um telefone de uma pessoa que já está na\n",
    "agenda. Se a pessoa tiver apenas um telefone, ela deve ser excluída da agenda.\n",
    "- excluirNome – essa função exclui uma pessoa da agenda.\n",
    "- consultarTelefone – essa função retorna os telefones de uma pessoa na agenda."
   ]
  },
  {
   "cell_type": "code",
   "execution_count": 52,
   "metadata": {
    "scrolled": true
   },
   "outputs": [
    {
     "name": "stdout",
     "output_type": "stream",
     "text": [
      "escolha uma opção: 1 - Incluir Novo Nome 2 - Incluir Telefone  3 - Excluir Telefone  4 - Consultar Agenda 0 - Encerrar Programa1\n",
      "escolha uma opção: 1 - Incluir Novo Nome 2 - Incluir Telefone  3 - Excluir Telefone  4 - Consultar Agenda 0 - Encerrar Programa2\n",
      "escolha uma opção: 1 - Incluir Novo Nome 2 - Incluir Telefone  3 - Excluir Telefone  4 - Consultar Agenda 0 - Encerrar Programa0\n"
     ]
    }
   ],
   "source": [
    "agenda = {}\n",
    "def incluir_nome(nome, telefones):\n",
    "    global agenda\n",
    "    agenda[nome] = telefones\n",
    "    \n",
    "def incluir_telefone(nome, telefone):\n",
    "    global agenda\n",
    "    if nome in agenda.keys():\n",
    "        agenda[nome].append(telefone)\n",
    "    else:\n",
    "        if input(\"Essa pessoa não existe, incluir ela na agenda (s/n)?\") == \"s\":\n",
    "            telefones = [telefone]\n",
    "            incluir_nome(nome, telefones)\n",
    "            \n",
    "def excluir_telefone(nome, telefone):\n",
    "    global agenda\n",
    "    if nome in agenda.keys():\n",
    "        if len(agenda[nome]) == 1:\n",
    "            del agenda[nome]\n",
    "        else :\n",
    "            for num in range(0, len(agenda[nome]) - 1):\n",
    "                if telefone == agenda[nome][num]:\n",
    "                    agenda[nome].pop(num)\n",
    "        \n",
    "def consultar_telefone(nome):\n",
    "    global agenda\n",
    "    if nome in agenda:\n",
    "        print (agenda[nome])\n",
    "opcao = -1\n",
    "while opcao != 0:\n",
    "    opcao = int(input(\"escolha uma opção: 1 - Incluir Novo Nome 2 - Incluir Telefone  3 - Excluir Telefone  4 - Consultar Agenda 0 - Encerrar Programa\"))\n",
    "\n",
    "if opcao == 1:\n",
    "    nome = input (\"Insira o nome da pessoa:\")\n",
    "    telefones = []\n",
    "    telefones.append(int(input(\"Insira um telefone da pessoa:\")))\n",
    "    telefone = -1\n",
    "    while telefone != 0:\n",
    "        telefone = int(input(\"Inserir outro telefone (ou digite 0 para parar):\"))\n",
    "        if telefone != 0:\n",
    "            telefones.append(telefone)\n",
    "            incluir_nome(nome, telefone)\n",
    "        elif opcao == 2:\n",
    "            nome = input(\"Insira o nome da pessoa: \")\n",
    "            telefone = int(input(\"Insira o novo telefone da pessoa:\"))\n",
    "            incluir_telefone(nome, telefone)\n",
    "        elif opcao == 3:\n",
    "            nome = input(\"Insira um novo telefone da pessoa: \")\n",
    "            telefone = int(input(\"Insira o telefone da pessoa a qual deseja excluir:\"))\n",
    "            excluir_telefone(nome, telefone)\n",
    "        elif opcao == 4:\n",
    "            consultar_telefone(input(\"Insira o nome da pessoa: \"))"
   ]
  },
  {
   "cell_type": "markdown",
   "metadata": {},
   "source": [
    "9 Faça um programa que leia um arquivo texto contendo uma lista de endereços IP e\n",
    "gere um outro arquivo, contendo um relatório dos endereços IP válidos e inválidos.\n",
    "O arquivo de entrada possui o seguinte formato:\n",
    "\n",
    "200.135.80.9\n",
    "192.168.1.1\n",
    "8.35.67.74\n",
    "257.32.4.5\n",
    "85.345.1.2\n",
    "1.2.3.4\n",
    "9.8.234.5\n",
    "192.168.0.256\n",
    "O arquivo de saída possui o seguinte formato:\n",
    "[Endereços válidos:]\n",
    "200.135.80.9\n",
    "192.168.1.1\n",
    "8.35.67.74\n",
    "1.2.3.4\n",
    "[Endereços inválidos:]\n",
    "257.32.4.5\n",
    "85.345.1.2\n",
    "9.8.234.5\n",
    "192.168.0.256"
   ]
  },
  {
   "cell_type": "code",
   "execution_count": 11,
   "metadata": {},
   "outputs": [
    {
     "ename": "FileNotFoundError",
     "evalue": "[Errno 2] No such file or directory: 'ips.txt'",
     "output_type": "error",
     "traceback": [
      "\u001b[1;31m---------------------------------------------------------------------------\u001b[0m",
      "\u001b[1;31mFileNotFoundError\u001b[0m                         Traceback (most recent call last)",
      "\u001b[1;32m<ipython-input-11-45d74f70b661>\u001b[0m in \u001b[0;36m<module>\u001b[1;34m\u001b[0m\n\u001b[0;32m      3\u001b[0m \u001b[0mipInvalidos\u001b[0m \u001b[1;33m=\u001b[0m \u001b[1;33m[\u001b[0m\u001b[1;33m]\u001b[0m\u001b[1;33m\u001b[0m\u001b[1;33m\u001b[0m\u001b[0m\n\u001b[0;32m      4\u001b[0m \u001b[1;33m\u001b[0m\u001b[0m\n\u001b[1;32m----> 5\u001b[1;33m \u001b[0mips\u001b[0m \u001b[1;33m=\u001b[0m \u001b[0mopen\u001b[0m \u001b[1;33m(\u001b[0m\u001b[1;34m\"ips.txt\"\u001b[0m\u001b[1;33m)\u001b[0m\u001b[1;33m\u001b[0m\u001b[1;33m\u001b[0m\u001b[0m\n\u001b[0m\u001b[0;32m      6\u001b[0m \u001b[1;32mfor\u001b[0m \u001b[0mip\u001b[0m \u001b[1;32min\u001b[0m \u001b[0mips\u001b[0m\u001b[1;33m:\u001b[0m\u001b[1;33m\u001b[0m\u001b[1;33m\u001b[0m\u001b[0m\n\u001b[0;32m      7\u001b[0m     \u001b[1;32mtry\u001b[0m\u001b[1;33m:\u001b[0m\u001b[1;33m\u001b[0m\u001b[1;33m\u001b[0m\u001b[0m\n",
      "\u001b[1;31mFileNotFoundError\u001b[0m: [Errno 2] No such file or directory: 'ips.txt'"
     ]
    }
   ],
   "source": [
    "import socket\n",
    "ipValidos = []\n",
    "ipInvalidos = []\n",
    "\n",
    "ips = open (\"ips.txt\")\n",
    "for ip in ips:\n",
    "    try:\n",
    "        sockect.inet_aton(ip)\n",
    "        ipsValidos.append(ip)\n",
    "    except socket.error:\n",
    "        ipInvalidos.append(ip)\n",
    "ips.close()\n",
    "saida = open(\"ipsvalidos.txt\", \"w+\")\n",
    "saida.write(\"[Endereços validos:]\")\n",
    "for ip in ipsValidos:\n",
    "    saida.write(ip)\n",
    "saida.write(\"[Endereços invalidos:]\")\n",
    "for ip in ipsInvalidos:\n",
    "    saida.write(ip)\n",
    "saida.close()"
   ]
  },
  {
   "cell_type": "code",
   "execution_count": null,
   "metadata": {},
   "outputs": [],
   "source": []
  }
 ],
 "metadata": {
  "kernelspec": {
   "display_name": "Python 3",
   "language": "python",
   "name": "python3"
  },
  "language_info": {
   "codemirror_mode": {
    "name": "ipython",
    "version": 3
   },
   "file_extension": ".py",
   "mimetype": "text/x-python",
   "name": "python",
   "nbconvert_exporter": "python",
   "pygments_lexer": "ipython3",
   "version": "3.7.4"
  }
 },
 "nbformat": 4,
 "nbformat_minor": 2
}
