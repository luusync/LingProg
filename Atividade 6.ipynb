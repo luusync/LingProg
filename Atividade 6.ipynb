{
 "cells": [
  {
   "cell_type": "markdown",
   "metadata": {},
   "source": [
    "1 Defina a função soma_nat que recebe como argumento um número natural n\n",
    "e devolve a soma de todos os números naturais até n.\n",
    "Ex: soma_nat(5) = 15"
   ]
  },
  {
   "cell_type": "code",
   "execution_count": 28,
   "metadata": {},
   "outputs": [
    {
     "name": "stdout",
     "output_type": "stream",
     "text": [
      "21\n"
     ]
    }
   ],
   "source": [
    "def soma_nat(n):\n",
    "    if n==0:\n",
    "        return 0\n",
    "    else:\n",
    "        return n + soma_nat(n-1)\n",
    "    \n",
    "assert(soma_nat(5)==15)\n",
    "print(soma_nat(6))"
   ]
  },
  {
   "cell_type": "markdown",
   "metadata": {},
   "source": [
    "2 Defina a função div que recebe como argumentos dois números naturais m\n",
    "e n e devolve o resultado da divisão inteira de m por n. Neste exercício você não\n",
    "pode recorrer às operações aritméticas de multiplicação, divisão e resto da divisão\n",
    "inteira.\n",
    "Ex: div(7,2) = 3"
   ]
  },
  {
   "cell_type": "code",
   "execution_count": 25,
   "metadata": {},
   "outputs": [
    {
     "name": "stdout",
     "output_type": "stream",
     "text": [
      "3\n"
     ]
    }
   ],
   "source": [
    "def div(m, n):\n",
    "    if n==0:\n",
    "        return 'Não divisivel por zero'\n",
    "    else:\n",
    "        if (m >= n):\n",
    "            return 1 + div(m - n, n)\n",
    "    return 0\n",
    "\n",
    "assert(div(7,2) == 3)\n",
    "print(div(7, 2))"
   ]
  },
  {
   "cell_type": "markdown",
   "metadata": {},
   "source": [
    "3 Defina a função prim_alg que recebe como argumento um número natural e\n",
    "devolve o primeiro algarismo (o mais significativo) na representação decimal de n.\n",
    "Ex: prim_alg(5649) = 5\n",
    "Ex: prim_alg(7) = 7"
   ]
  },
  {
   "cell_type": "code",
   "execution_count": 24,
   "metadata": {},
   "outputs": [
    {
     "name": "stdout",
     "output_type": "stream",
     "text": [
      "8\n",
      "7\n"
     ]
    }
   ],
   "source": [
    "def prim_alg(n):\n",
    "    if(int(n/10) > 1):\n",
    "        return prim_alg(n / 10)\n",
    "    return int(n)\n",
    "\n",
    "assert(prim_alg(str(56789)) == '5')\n",
    "print(prim_alg(891723.878))\n",
    "print(prim_alg(7))"
   ]
  },
  {
   "cell_type": "markdown",
   "metadata": {},
   "source": [
    "4 Defina a função prod_lista que recebe como argumento uma lista de inteiros e\n",
    "devolve o produto dos seus elementos.\n",
    "Ex: prod_lista([1,2,3,4,5,6]) = 720"
   ]
  },
  {
   "cell_type": "code",
   "execution_count": 52,
   "metadata": {},
   "outputs": [
    {
     "name": "stdout",
     "output_type": "stream",
     "text": [
      "Digite uma lista de números inteiros: 2 5 6\n",
      "60\n"
     ]
    }
   ],
   "source": [
    "def prod_lista(lista):\n",
    "    if(lista):\n",
    "        prod = lista[0]\n",
    "        lista.pop(0)\n",
    "        return prod * prod_lista(lista)\n",
    "    return 1\n",
    "\n",
    "inteiros = list(map(int,input(\"Digite uma lista de números inteiros: \").split()))\n",
    "\n",
    "assert(prod_lista([1,2,3,4,5,6]) == 720)\n",
    "print(prod_lista(inteiros))"
   ]
  },
  {
   "cell_type": "markdown",
   "metadata": {},
   "source": [
    "5 Defina a função contem_parQ que recebe como argumento uma lista de números\n",
    "inteiros w e devolve True se w contém um número par e False em caso contrário.\n",
    "Ex: contem_parQ([2,3,1,2,3,4]) = True\n",
    "Ex: contem_parQ([1,3,5,7]) = False"
   ]
  },
  {
   "cell_type": "code",
   "execution_count": 53,
   "metadata": {},
   "outputs": [
    {
     "name": "stdout",
     "output_type": "stream",
     "text": [
      "Digite uma lista de números inteiros: 1 4 7 8\n",
      "True\n"
     ]
    }
   ],
   "source": [
    "def contem_parQ(w):\n",
    "    if(w):\n",
    "        if(w[0]%2 == 0):\n",
    "            return True\n",
    "        w.pop(0)\n",
    "        return contem_parQ(w)\n",
    "    return False\n",
    "    \n",
    "inteiros = list(map(int,input(\"Digite uma lista de números inteiros: \").split()))\n",
    "print(contem_parQ(inteiros))"
   ]
  },
  {
   "cell_type": "markdown",
   "metadata": {},
   "source": [
    "6 Defina a função todos_imparesQ que recebe como argumento uma lista de\n",
    "números inteiros w e devolve True se w contém apenas números ímpares e False\n",
    "em caso contrário.\n",
    "Ex: todos_imparesQ([1,3,5,7]) = True\n",
    "Ex: todos_imparesQ([]) = True\n",
    "Ex: todos_imparesQ([1,2,3,4,5]) = False"
   ]
  },
  {
   "cell_type": "code",
   "execution_count": 54,
   "metadata": {},
   "outputs": [
    {
     "name": "stdout",
     "output_type": "stream",
     "text": [
      "Digite uma lista de números inteiros: 2 4 8\n",
      "False\n"
     ]
    }
   ],
   "source": [
    "def td_imparQ(w):\n",
    "    if(w):\n",
    "        if(w[0]%2 == 0):\n",
    "            return False\n",
    "        else:\n",
    "            w.pop(0)\n",
    "            return td_imparQ(w)\n",
    "    return True\n",
    "    \n",
    "lista = list(map(int,input(\"Digite uma lista de números inteiros: \").split()))\n",
    "print(td_imparQ(lista))"
   ]
  },
  {
   "cell_type": "markdown",
   "metadata": {},
   "source": [
    "7 Defina a função pertenceQ que recebe como argumentos uma lista de números\n",
    "inteiros w e um número inteiro n e devolve True se n ocorre em w e False em\n",
    "caso contrário.\n",
    "Ex: pertenceQ([1,2,3],1) = True\n",
    "Ex: pertenceQ([1,2,3],2) = True\n",
    "Ex: pertenceQ([1,2,3],3) = True\n",
    "Ex: pertenceQ([1,2,3],4) = False"
   ]
  },
  {
   "cell_type": "code",
   "execution_count": 45,
   "metadata": {},
   "outputs": [
    {
     "name": "stdout",
     "output_type": "stream",
     "text": [
      "Digite uma lista de números inteiros: 2 5 7 8\n",
      "Digite um número para ver se está na lista: 2\n",
      "True\n"
     ]
    }
   ],
   "source": [
    "def pertenceQ(w, n):\n",
    "    if(w):\n",
    "        if(w[0] == n):\n",
    "            return True\n",
    "        w.pop(0)\n",
    "        return pertenceQ(w, n)\n",
    "    return False\n",
    "    \n",
    "lista = list(map(int,input(\"Digite uma lista de números inteiros: \").split()))\n",
    "verifica = int(input(\"Digite um número para ver se está na lista: \"))\n",
    "print(pertenceQ(lista, verifica))"
   ]
  },
  {
   "cell_type": "markdown",
   "metadata": {},
   "source": [
    "8 Defina a função junta que recebe como argumentos duas listas de números\n",
    "inteiros w1 e w2 e devolve a concatenação de w1 com w2 .\n",
    "Ex: junta([1,2,3],[4,5,6]) = [1, 2, 3, 4, 5, 6]\n",
    "Ex: junta([],[4,5,6]) = [4, 5, 6]\n",
    "Ex: junta([1,2,3],[]) = [1, 2, 3]"
   ]
  },
  {
   "cell_type": "code",
   "execution_count": 51,
   "metadata": {},
   "outputs": [
    {
     "name": "stdout",
     "output_type": "stream",
     "text": [
      "Digite uma lista de números inteiros : 1 3 5\n",
      "Digite outra lista de números inteiros: 1 4 6\n",
      "[1, 3, 5, 1, 4, 6]\n"
     ]
    }
   ],
   "source": [
    "def junta(w1, w2):\n",
    "    if(w2):\n",
    "        w1.append(w2[0])\n",
    "        w2.pop(0)\n",
    "        return junta(w1,w2)\n",
    "    else:\n",
    "        return w1\n",
    "    \n",
    "lista1 = list(map(int,input(\"Digite uma lista de números inteiros : \").split()))\n",
    "lista2 = list(map(int,input(\"Digite outra lista de números inteiros: \").split()))\n",
    "print(junta(lista1, lista2))"
   ]
  },
  {
   "cell_type": "markdown",
   "metadata": {},
   "source": [
    "9 Defina a função temPrimoQ que recebe como argumento uma lista de listas de\n",
    "números inteiros w e devolve True se alguma das sublistas w tem um número\n",
    "primo e False em caso contrário.\n",
    "Ex: temPrimoQ([[4,4,4,4],[5,4,6,7],[2,4,3]]) = True\n",
    "Ex: temPrimoQ([[4,4,4,4],[4,4,4],[],[4]]) = False"
   ]
  },
  {
   "cell_type": "code",
   "execution_count": null,
   "metadata": {},
   "outputs": [],
   "source": []
  },
  {
   "cell_type": "markdown",
   "metadata": {},
   "source": [
    "10 Defina a função inverteLista que recebe como argumento uma lista w e devolve a\n",
    "mesma lista mas invertida.\n",
    "Ex: inverteLista([1,2,3,4,5]) = [5, 4, 3, 2, 1]\n",
    "Ex: inverteLista([])"
   ]
  },
  {
   "cell_type": "code",
   "execution_count": 55,
   "metadata": {},
   "outputs": [
    {
     "name": "stdout",
     "output_type": "stream",
     "text": [
      "Digite uma lista de números inteiros: 2 4 6\n",
      "[2, 4, 6]\n",
      "[6, 4, 2]\n"
     ]
    }
   ],
   "source": [
    "def inverteLista(w):\n",
    "    if(w):\n",
    "        x = w[0]\n",
    "        w.pop(0)\n",
    "        if(not w):\n",
    "            return [x]\n",
    "        new_w = inverteLista(w)\n",
    "        new_w.append(x)\n",
    "        return new_w\n",
    "    return w\n",
    "\n",
    "def valores():\n",
    "    lista_int = list(map(int,input(\"Digite uma lista de números inteiros: \").split()))\n",
    "    print(lista_int)\n",
    "    return lista_int\n",
    "    \n",
    "print(inverteLista(valores()))"
   ]
  },
  {
   "cell_type": "code",
   "execution_count": null,
   "metadata": {},
   "outputs": [],
   "source": []
  }
 ],
 "metadata": {
  "kernelspec": {
   "display_name": "Python 3",
   "language": "python",
   "name": "python3"
  },
  "language_info": {
   "codemirror_mode": {
    "name": "ipython",
    "version": 3
   },
   "file_extension": ".py",
   "mimetype": "text/x-python",
   "name": "python",
   "nbconvert_exporter": "python",
   "pygments_lexer": "ipython3",
   "version": "3.7.4"
  }
 },
 "nbformat": 4,
 "nbformat_minor": 2
}
