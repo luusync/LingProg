{
  "nbformat": 4,
  "nbformat_minor": 0,
  "metadata": {
    "colab": {
      "name": "Untitled0.ipynb",
      "provenance": [],
      "authorship_tag": "ABX9TyPBzckraK/Dto/1Vvkna+oH",
      "include_colab_link": true
    },
    "kernelspec": {
      "name": "python3",
      "display_name": "Python 3"
    }
  },
  "cells": [
    {
      "cell_type": "markdown",
      "metadata": {
        "id": "view-in-github",
        "colab_type": "text"
      },
      "source": [
        "<a href=\"https://colab.research.google.com/github/luusync/LingProg/blob/master/Aula2-IA.ipynb\" target=\"_parent\"><img src=\"https://colab.research.google.com/assets/colab-badge.svg\" alt=\"Open In Colab\"/></a>"
      ]
    },
    {
      "cell_type": "code",
      "metadata": {
        "id": "j5jSksOt-HS3",
        "colab_type": "code",
        "colab": {
          "base_uri": "https://localhost:8080/",
          "height": 66
        },
        "outputId": "46099682-7724-4efd-ff88-e3754e42d394"
      },
      "source": [
        "print (\"Ola mundo!\")\n",
        "\n",
        "x =10\n",
        "\n",
        "print (x)\n",
        "\n",
        "y = x * 10\n",
        "\n",
        "print (y)"
      ],
      "execution_count": 3,
      "outputs": [
        {
          "output_type": "stream",
          "text": [
            "Ola mundo!\n",
            "10\n",
            "100\n"
          ],
          "name": "stdout"
        }
      ]
    },
    {
      "cell_type": "code",
      "metadata": {
        "id": "ktdk3ZpyBiLt",
        "colab_type": "code",
        "colab": {
          "base_uri": "https://localhost:8080/",
          "height": 183
        },
        "outputId": "308a96cb-b9ee-423a-c81d-cc7e546e10db"
      },
      "source": [
        "Neste exemplo reproduzimos o uso de operadores aritmeticos fazendo calculos básicos. Vimos \n",
        "como são suas simbologias em Python e como trabalhar com elas de diversas formas. \n",
        "\n",
        "x = 3\n",
        "print (type(x))\n",
        "#Mostra \"<class 'int'>\"\n",
        "print (x)\n",
        "#mostra \"3\"\n",
        "print(x + 1)\n",
        "#adciona e mostra 4 \n",
        "print(x - 1)\n",
        "#subtrai e mostra 2\n",
        "print(x * 2)\n",
        "#multiplica e mostra 6\n",
        "print(x ** 2)\n",
        "#faz a exponenciação e mostra 9\n",
        "x += 1\n",
        "print (x)\n",
        "#mostra 4\n",
        "x *= 2\n",
        "print(x)\n",
        "#mostra 8\n",
        "y = 2.5\n",
        "print(type(y))\n",
        "#mostra \"<class 'float'>\"\n",
        "print (y, y + 1, y * 2, y ** 2)\n",
        "#mostra \"2.5 3.5 5.0 6.25\""
      ],
      "execution_count": 2,
      "outputs": [
        {
          "output_type": "stream",
          "text": [
            "<class 'int'>\n",
            "3\n",
            "4\n",
            "2\n",
            "6\n",
            "9\n",
            "4\n",
            "8\n",
            "<class 'float'>\n",
            "2.5 3.5 5.0 6.25\n"
          ],
          "name": "stdout"
        }
      ]
    },
    {
      "cell_type": "code",
      "metadata": {
        "id": "DmR5zN8rDM_c",
        "colab_type": "code",
        "colab": {
          "base_uri": "https://localhost:8080/",
          "height": 100
        },
        "outputId": "3de8b96f-ca88-4950-8ba7-a10d99d6615d"
      },
      "source": [
        "neste exemplo vimos os tipos de operadores lógicos verdadeiro e falso, como trabalhar com \n",
        "elas de algumas formas e suas simbologias.\n",
        "\n",
        "t = True\n",
        "f = False\n",
        "print(type(t))\n",
        "#mostra \"<class 'bool'>\"\n",
        "print (t and f)\n",
        "#trabalha o operador AND e mostra \"False\"\n",
        "print (t or f)\n",
        "#trabalha o operador OR e mostra \"True\"\n",
        "print (not t)\n",
        "#trabalha o operador NOT D e mostra \"False\"\n",
        "print (t != f)\n",
        "#trabalha o operador xor (ou exclusivo) e mostra \"True\""
      ],
      "execution_count": 5,
      "outputs": [
        {
          "output_type": "stream",
          "text": [
            "<class 'bool'>\n",
            "False\n",
            "True\n",
            "False\n",
            "True\n"
          ],
          "name": "stdout"
        }
      ]
    },
    {
      "cell_type": "code",
      "metadata": {
        "id": "zt1nTfJVH9Q1",
        "colab_type": "code",
        "colab": {
          "base_uri": "https://localhost:8080/",
          "height": 200
        },
        "outputId": "5b4be39f-4d4e-4719-e29d-5065410b4086"
      },
      "source": [
        "Nesse exemplo trabalhamos com o uso de Strings. Reproduzimos como guardar nomes, juntar \n",
        "frases umas nas outras, editar das mais variadas formas e muito mais.\n",
        "\n",
        "hello = 'hello'\n",
        "#string literais se usa aspas simples\n",
        "world = \"world\"\n",
        "#ou aspas dupla indiferentemente\n",
        "print(hello)\n",
        "#mostra \"hello\"\n",
        "print(len(hello))\n",
        "#identifica o tamanho da String e mostra 5\n",
        "hw = hello + ' ' + world\n",
        "#operador \"+\" concatena Strings\n",
        "print(hw)\n",
        "#mostra \"hello word\"\n",
        "hw12 = '%s %s %d' % (hello, world, 12)\n",
        "#formata como o printf da linguagem C\n",
        "print(hw12)\n",
        "#Mostra \"hello world 12\"\n",
        "hw12 = '{} {} {}'.format(hello, world, 12)\n",
        "print(hw12)\n",
        "#mostra \"hello world 12\"\n",
        "s = \"hello\"\n",
        "print(s.capitalize())\n",
        "#coloca em maiusculo a 1a letra e mostra Hello\n",
        "print(s.upper())\n",
        "#converte para maiusculo tudo e mostra HELLO\n",
        "print(s.rjust(7))\n",
        "#justifica a direita e mostra \" hello\"\n",
        "print(s.center(7))\n",
        "#centraliza e mostra \" hello \"\n",
        "print(s.replace('1', '(ell'))\n",
        "#troca todos '1' por 'ell' e mostra \"he(ell) (ell)o\"\n",
        "print (' world '.strip()) \n",
        "#tira os espaços e mostra \"world\""
      ],
      "execution_count": 6,
      "outputs": [
        {
          "output_type": "stream",
          "text": [
            "hello\n",
            "5\n",
            "hello world\n",
            "hello world 12\n",
            "hello world 12\n",
            "Hello\n",
            "HELLO\n",
            "  hello\n",
            " hello \n",
            "hello\n",
            "world\n"
          ],
          "name": "stdout"
        }
      ]
    },
    {
      "cell_type": "code",
      "metadata": {
        "id": "9-oCnP_WOrhA",
        "colab_type": "code",
        "colab": {
          "base_uri": "https://localhost:8080/",
          "height": 150
        },
        "outputId": "9a62c578-0c76-46fd-d300-f4d81a0398a0"
      },
      "source": [
        "Neste exemplo trabalhamos com o uso das listas, fazendo desde a criaçao de uma lista ate a\n",
        "modificação com a adição de novos dados e remoção de outros alem das formas de como retornar esses \n",
        "dados.  \n",
        "\n",
        "xs = [3, 1, 2, 'texto']\n",
        "#cria a lista\n",
        "print(xs, xs[2])\n",
        "#mostra \"[3, 1, 2] 2\"\n",
        "print(xs[-1])\n",
        "#indices negativos contam a partir do fim da lista e mostra 2\n",
        "xs[2] = 'texto'\n",
        "#listas podem ter elementos de tipos diferentes\n",
        "print(xs)\n",
        "#mostra \"[3, 1, 'texto']\"\n",
        "xs.append('outro')\n",
        "#coloca um novo elemento no fim da lista\n",
        "print(xs)\n",
        "#mostra \"[3, 1, 'texto, 'outro']\"\n",
        "x = xs.pop()\n",
        "#remove e retorna o ultimo elemento da lista\n",
        "print(x, xs)\n",
        "#mostra \"bar [3, 1, 'texto']\"\n",
        "animais = ['gato', 'cachorro', 'macaco']\n",
        "#a seguir um loop com  a lista animais\n",
        "for animal in animais:\n",
        "  print(animal)\n",
        "#o recurso de loop (repetição) acima conheceremos na proxima aula"
      ],
      "execution_count": 7,
      "outputs": [
        {
          "output_type": "stream",
          "text": [
            "[3, 1, 2, 'texto'] 2\n",
            "texto\n",
            "[3, 1, 'texto', 'texto']\n",
            "[3, 1, 'texto', 'texto', 'outro']\n",
            "outro [3, 1, 'texto', 'texto']\n",
            "gato\n",
            "cachorro\n",
            "macaco\n"
          ],
          "name": "stdout"
        }
      ]
    },
    {
      "cell_type": "code",
      "metadata": {
        "id": "RjMDptRxQmaV",
        "colab_type": "code",
        "colab": {
          "base_uri": "https://localhost:8080/",
          "height": 166
        },
        "outputId": "a4ed5fb8-fe1a-4e28-bcf7-a0f40d2eee08"
      },
      "source": [
        "Complementando o que vimos com listas, aqui trabalhamos com a criação de listas com range.\n",
        "l1 = list(range(5))\n",
        "print(l1)\n",
        "l2 = list(range(3,8))\n",
        "print(l2)\n",
        "l3 = list(range(2,11,3))\n",
        "print(l3)\n",
        "l4 = l1 + l2\n",
        "print(l4)\n",
        "l5 = l3 * 4\n",
        "print(l5)\n",
        "l6 = (9, 'textp', 5.7, [16, 11, 18], \"Python\", [7, 8])\n",
        "print(l6)\n",
        "l7 = l6[1:4]\n",
        "print(l7)\n",
        "l8 = l6[2:1]\n",
        "print(l8)\n",
        "l9 = l6[:4]\n",
        "print(l9)\n"
      ],
      "execution_count": 10,
      "outputs": [
        {
          "output_type": "stream",
          "text": [
            "[0, 1, 2, 3, 4]\n",
            "[3, 4, 5, 6, 7]\n",
            "[2, 5, 8]\n",
            "[0, 1, 2, 3, 4, 3, 4, 5, 6, 7]\n",
            "[2, 5, 8, 2, 5, 8, 2, 5, 8, 2, 5, 8]\n",
            "(9, 'textp', 5.7, [16, 11, 18], 'Python', [7, 8])\n",
            "('textp', 5.7, [16, 11, 18])\n",
            "()\n",
            "(9, 'textp', 5.7, [16, 11, 18])\n"
          ],
          "name": "stdout"
        }
      ]
    },
    {
      "cell_type": "code",
      "metadata": {
        "id": "NjmYVtjvTIAk",
        "colab_type": "code",
        "colab": {
          "base_uri": "https://localhost:8080/",
          "height": 116
        },
        "outputId": "d7dceef1-76d4-4046-90ef-b7c16259f6f5"
      },
      "source": [
        "Nesse exemplo aprendemos sobre dicionarios em Python, seu uso, suas funções, como mostrar e declarar\n",
        "de algumas formas. Reprozudimos como acessar e devolver os dados, incluir e remover elementos.\n",
        "\n",
        "d = {'gato': 'cat', 'cachorro': 'dog'}\n",
        "#cria um novo dicionario com alguns dados\n",
        "print(d['gato'])\n",
        "#identifica se uma chave está e mostra \"true\"\n",
        "print ('gato' in d)\n",
        "# verifica se uma chave está e mostra \"True\"\n",
        "print (d)\n",
        "d['peixe'] = 'fish'\n",
        "#mostra \"fish\"\n",
        "print (d['macaco'])\n",
        "#keyError: 'macaco' porque não é uma chave do dicionario d\n",
        "print (d.get('peixe', 'N/A'))\n",
        "#busca um elemento com valor default para falha, mostra \"N/A\"\n",
        "print (d.get('peixe', 'N/A'))\n",
        "#busca um elemento com valor default para falha, mostra \"fish\"\n",
        "del d['peixe']\n",
        "#remove um element do dicionario\n",
        "print (d.get('peixe', 'N/A'))\n",
        "# busca um elemento com valor default para falha, mostra \"N/A\""
      ],
      "execution_count": 15,
      "outputs": [
        {
          "output_type": "stream",
          "text": [
            "cat\n",
            "True\n",
            "{'gato': 'cat', 'cachorro': 'dog'}\n",
            "fish\n",
            "fish\n",
            "N/A\n"
          ],
          "name": "stdout"
        }
      ]
    },
    {
      "cell_type": "code",
      "metadata": {
        "id": "j7bzW7x6Orfd",
        "colab_type": "code",
        "colab": {}
      },
      "source": [
        ""
      ],
      "execution_count": null,
      "outputs": []
    },
    {
      "cell_type": "markdown",
      "metadata": {
        "id": "RDHJcmjA_K_s",
        "colab_type": "text"
      },
      "source": [
        "hoje estou aprendendo a programar em python."
      ]
    }
  ]
}