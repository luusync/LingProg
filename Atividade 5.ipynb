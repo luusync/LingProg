{
 "cells": [
  {
   "cell_type": "markdown",
   "metadata": {},
   "source": [
    "1 Linha: Crie a classe Linha que tem dois atributos, coordenada1 e coordenada2. Cada coordenada é uma tupla que carrega duas coordenadas cartesianas (x,y) que denotam pontos do segmento de reta. Faça métodos que calculem o comprimento do segmento de reta e sua inclinação."
   ]
  },
  {
   "cell_type": "code",
   "execution_count": 3,
   "metadata": {},
   "outputs": [
    {
     "name": "stdout",
     "output_type": "stream",
     "text": [
      "Coloque o x da coordenada 1:2\n",
      "Coloque o y da coordenada 1:5\n",
      "Coloque o x da coordenada 2:7\n",
      "Coloque o y da coordenada 2:9\n",
      "Coordenada 1 (x = 2) e (y = 5)\n",
      "Coordenada 2 (x = 7) e (y = 9)\n",
      "comprimento = (2 - 5)*2 + (7 - 9)*2 / 2\n",
      "comprimento é: 3.605551275463989\n",
      "inclinacao = (7 - 9)/(2 - 5)\n",
      "inclinacao é: 0.6666666666666666\n"
     ]
    }
   ],
   "source": [
    "from math import sqrt as m\n",
    "\n",
    "p1 = int(input('Coloque o x da coordenada 1:'))\n",
    "p2 = int(input('Coloque o y da coordenada 1:'))\n",
    "P1 = int(input('Coloque o x da coordenada 2:'))\n",
    "P2 = int(input('Coloque o y da coordenada 2:'))\n",
    "print (\"\")\n",
    "\n",
    "class Linha:\n",
    "    def __init__(self,cord1,cord2):\n",
    "        self.cord1 = cord1\n",
    "        self.cord2 = cord2\n",
    "    \n",
    "    def calcuComp(self,cord1,cord2):\n",
    "        a,b = cord1\n",
    "        c,d = cord2\n",
    "        return m(((b - a)**2) + ((d - c)**2))\n",
    "    \n",
    "    def calcInclinacao(self,cord1,cord2):\n",
    "        a,b = cord1\n",
    "        c,d = cord2\n",
    "        return ((d - c)/(b - a))\n",
    "    \n",
    "t1 = (p1, p2)\n",
    "t2 = (P1, P2)\n",
    "l = Linha(t1,t2)\n",
    "print(f'Coordenada 1 (x = {p1}) e (y = {p2})')\n",
    "print(f'Coordenada 2 (x = {P1}) e (y = {P2})')\n",
    "print(f'comprimento = ({p1} - {p2})*2 + ({P1} - {P2})*2 / 2' )\n",
    "print('comprimento é: ' + str(l.calcuComp(t1,t2)))\n",
    "print(f'inclinacao = ({P1} - {P2})/({p1} - {p2})')\n",
    "print('inclinacao é: ' + str(l.calcInclinacao(t1,t2)))"
   ]
  },
  {
   "cell_type": "markdown",
   "metadata": {},
   "source": [
    "1 Linha: Crie a classe Linha que tem dois atributos, coordenada1 e coordenada2. Cada coordenada é uma tupla que carrega duas coordenadas cartesianas (x,y) que denotam pontos do segmento de reta. Faça métodos que calculem o comprimento do segmento de reta e sua inclinação."
   ]
  },
  {
   "cell_type": "code",
   "execution_count": 4,
   "metadata": {},
   "outputs": [
    {
     "name": "stdout",
     "output_type": "stream",
     "text": [
      "Digite o raio do circulo:2\n",
      "Digite a base do triangulo:6\n",
      "Digite a altura do triangulo:8\n",
      "Digite a base do losango:12\n",
      "Digite a altura do losango:7\n",
      "Digite a base do retangulo:11\n",
      "Digite a altura do retangulo:3\n",
      "Digite o lado do quadrado:7\n",
      "\n",
      "Figura: Circulo \n",
      "Area: 12.566370614359172\n",
      "\n",
      "Figura: Triangulo \n",
      "Area: 24.0\n",
      "\n",
      "Figura: Losango \n",
      "Area: 42.0\n",
      "\n",
      "Figura: Retangulo \n",
      "Area: 33.0\n",
      "\n",
      "Figura: Quadrado \n",
      "Area: 49.0\n",
      "\n"
     ]
    }
   ],
   "source": [
    "import math\n",
    "class Figura:\n",
    "    def area(self):\n",
    "        raise NotImplementedError(\"Método abstrato\")\n",
    "        \n",
    "class Circulo(Figura):\n",
    "    def __init__(self, raio):\n",
    "        self.raio = raio\n",
    "    \n",
    "    def area(self):\n",
    "        return math.pi * (self.raio**2)\n",
    "    \n",
    "class Poligono(Figura):\n",
    "    def __init__(self, base, altura):\n",
    "        self.base = base\n",
    "        self.altura = altura        \n",
    "        \n",
    "class Triangulo(Poligono):\n",
    "    def area(self):\n",
    "        return (self.base * self.altura) / 2\n",
    "\n",
    "class Losango(Poligono):\n",
    "    def area(self):\n",
    "        return (self.base * self.altura) / 2\n",
    "    \n",
    "class Diagonal:\n",
    "    def diagonal(self, base, altura):\n",
    "        return (base**2 + altura**2)**(1/2)\n",
    "    \n",
    "class Retangulo(Poligono):\n",
    "    diagonal = Diagonal()\n",
    "    def diagonal(self):\n",
    "        return self.diagonal.diagonal(self.base, self.altura)\n",
    "    def area(self):\n",
    "        return self.base * self.altura\n",
    "\n",
    "class Quadrado(Retangulo):\n",
    "    def __init__(self, lado):\n",
    "        Retangulo.__init__(self, lado, lado)\n",
    "\n",
    "raioCir = float(input('Digite o raio do circulo:'))\n",
    "baseTri = float(input('Digite a base do triangulo:'))\n",
    "alturaTri = float(input('Digite a altura do triangulo:'))\n",
    "baseLos = float(input('Digite a base do losango:'))\n",
    "alturaLos = float(input('Digite a altura do losango:'))\n",
    "baseRet = float(input('Digite a base do retangulo:'))\n",
    "alturaRet = float(input('Digite a altura do retangulo:'))\n",
    "ladoQuad = float(input('Digite o lado do quadrado:'))\n",
    "print (\"\")\n",
    "        \n",
    "class Geometria:\n",
    "    def __init__(self, figuras):\n",
    "        self.lista = [x for x in figuras] \n",
    "geometria = Geometria([    \n",
    "        Circulo(raioCir),\n",
    "        Triangulo(baseTri, alturaTri),\n",
    "        Losango(baseLos, alturaLos),\n",
    "        Retangulo(baseRet, alturaRet),\n",
    "        Quadrado(ladoQuad)\n",
    "])\n",
    "\n",
    "for x in geometria.lista:\n",
    "    print(f'Figura: {type(x).__name__} \\nArea: {x.area()}\\n')\n"
   ]
  },
  {
   "cell_type": "code",
   "execution_count": null,
   "metadata": {},
   "outputs": [],
   "source": []
  }
 ],
 "metadata": {
  "kernelspec": {
   "display_name": "Python 3",
   "language": "python",
   "name": "python3"
  },
  "language_info": {
   "codemirror_mode": {
    "name": "ipython",
    "version": 3
   },
   "file_extension": ".py",
   "mimetype": "text/x-python",
   "name": "python",
   "nbconvert_exporter": "python",
   "pygments_lexer": "ipython3",
   "version": "3.7.4"
  }
 },
 "nbformat": 4,
 "nbformat_minor": 2
}
