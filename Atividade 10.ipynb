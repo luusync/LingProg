{
 "cells": [
  {
   "cell_type": "markdown",
   "metadata": {},
   "source": [
    "1 Faça um programa que leia 5 números e informe o maior número."
   ]
  },
  {
   "cell_type": "code",
   "execution_count": 4,
   "metadata": {},
   "outputs": [
    {
     "name": "stdout",
     "output_type": "stream",
     "text": [
      "Digite o número 1: 2\n",
      "Digite o número 2: 4\n",
      "Digite o número 3: 7\n",
      "Digite o número 4: 9\n",
      "Digite o número 5: 3\n",
      "O maior número é 9\n"
     ]
    }
   ],
   "source": [
    "num_list = []\n",
    "\n",
    "for x in range(0,5):\n",
    "    numero = int(input(\"Digite o número \" + str(x + 1) + \": \"))\n",
    "    num_list.append(numero)\n",
    "\n",
    "resp = num_list[0]\n",
    "\n",
    "for numero in num_list:\n",
    "    if numero > resp:\n",
    "        resp = numero\n",
    "\n",
    "print(\"O maior número é \" + str(resp))"
   ]
  },
  {
   "cell_type": "markdown",
   "metadata": {},
   "source": [
    "2 Faça um programa que leia 5 números e informe a soma e a média dos números."
   ]
  },
  {
   "cell_type": "code",
   "execution_count": 6,
   "metadata": {},
   "outputs": [
    {
     "name": "stdout",
     "output_type": "stream",
     "text": [
      "Digite o número 1: 2\n",
      "Digite o número 2: 4\n",
      "Digite o número 3: 6\n",
      "Digite o número 4: 7\n",
      "Digite o número 5: 9\n",
      "A soma de todos os números é: 28\n",
      "A média dos números é: 5.6\n"
     ]
    }
   ],
   "source": [
    "num_list = []\n",
    "\n",
    "for x in range(0,5):\n",
    "    n = int(input(\"Digite o número \" + str(x + 1) + \": \"))\n",
    "    num_list.append(n)\n",
    "\n",
    "num_soma = 0\n",
    "\n",
    "for n in num_list:\n",
    "    num_soma += n\n",
    "\n",
    "print(\"A soma de todos os números é: \" + str(num_soma))\n",
    "print(\"A média dos números é: \" + str(num_soma / len(num_list)))\n"
   ]
  },
  {
   "cell_type": "markdown",
   "metadata": {},
   "source": [
    "3 Faça um programa que imprima na tela apenas os números ímpares entre 1 e 50."
   ]
  },
  {
   "cell_type": "code",
   "execution_count": 10,
   "metadata": {},
   "outputs": [
    {
     "name": "stdout",
     "output_type": "stream",
     "text": [
      "1\n",
      "3\n",
      "5\n",
      "7\n",
      "9\n",
      "11\n",
      "13\n",
      "15\n",
      "17\n",
      "19\n",
      "21\n",
      "23\n",
      "25\n",
      "27\n",
      "29\n",
      "31\n",
      "33\n",
      "35\n",
      "37\n",
      "39\n",
      "41\n",
      "43\n",
      "45\n",
      "47\n",
      "49\n"
     ]
    }
   ],
   "source": [
    "def maybeMonad(fnc):\n",
    "    def inner(*args):\n",
    "        for a in args:\n",
    "            if isinstance(a, Exception):\n",
    "                return None\n",
    "        try:\n",
    "            return fnc(*args)\n",
    "        except Exception as e:\n",
    "            return None\n",
    "    return inner\n",
    "    \n",
    "odd_func = maybeMonad(lambda num : num % 2 != 0)\n",
    "\n",
    "filtered = filter(odd_func, range(1,51))\n",
    "\n",
    "for num in filtered:\n",
    "    print(num)"
   ]
  },
  {
   "cell_type": "markdown",
   "metadata": {},
   "source": [
    "4 Desenvolva um gerador de tabuada, capaz de gerar a tabuada de qualquer número\n",
    "inteiro entre 1 a 10. O usuário deve informar de qual numero ele deseja ver a\n",
    "tabuada. A saída deve ser conforme o exemplo abaixo:\n",
    "Tabuada de 5:\n",
    "5 X 1 = 5\n",
    "5 X 2 = 10\n",
    "...\n",
    "5 X 10 = 50"
   ]
  },
  {
   "cell_type": "code",
   "execution_count": 11,
   "metadata": {},
   "outputs": [
    {
     "name": "stdout",
     "output_type": "stream",
     "text": [
      "Digite o multiplo: 6\n",
      "6 X 1 = 6\n",
      "6 X 2 = 12\n",
      "6 X 3 = 18\n",
      "6 X 4 = 24\n",
      "6 X 5 = 30\n",
      "6 X 6 = 36\n",
      "6 X 7 = 42\n",
      "6 X 8 = 48\n",
      "6 X 9 = 54\n",
      "6 X 10 = 60\n"
     ]
    },
    {
     "data": {
      "text/plain": [
       "[None, None, None, None, None, None, None, None, None, None]"
      ]
     },
     "execution_count": 11,
     "metadata": {},
     "output_type": "execute_result"
    }
   ],
   "source": [
    "mult_table = maybeMonad(lambda num: print(str(mult) + \" X \" + str(num) + \" = \" + str(mult*num)))\n",
    "\n",
    "mult = int(input(\"Digite o multiplo: \"))\n",
    "\n",
    "list(map(mult_table, range(1,11)))"
   ]
  },
  {
   "cell_type": "markdown",
   "metadata": {},
   "source": [
    "5 Faça um programa que calcule o fatorial de um número inteiro fornecido pelo\n",
    "usuário. Ex.: 5!=5.4.3.2.1=120"
   ]
  },
  {
   "cell_type": "code",
   "execution_count": 12,
   "metadata": {},
   "outputs": [
    {
     "name": "stdout",
     "output_type": "stream",
     "text": [
      "Digite o número para fazer a conta fatorial: 5\n",
      "120\n"
     ]
    }
   ],
   "source": [
    "fact = int(input(\"Digite o número para fazer a conta fatorial: \"))\n",
    "\n",
    "result = 1\n",
    "\n",
    "for num in range(1, fact + 1):\n",
    "    result *= num\n",
    "\n",
    "print(result)"
   ]
  },
  {
   "cell_type": "markdown",
   "metadata": {},
   "source": [
    "7 Faça um programa que mostre os n termos da Série a seguir:\n",
    "S = 1/1 + 2/3 + 3/5 + 4/7 + 5/9 + ... + n/m.\n",
    "Imprima no final a soma da série."
   ]
  },
  {
   "cell_type": "code",
   "execution_count": 13,
   "metadata": {},
   "outputs": [
    {
     "name": "stdout",
     "output_type": "stream",
     "text": [
      "Quantos números deseja observar nesta sequência?: 2\n",
      "1.6666666666666665\n"
     ]
    }
   ],
   "source": [
    "iterations = int(input(\"Quantos números deseja observar nesta sequência?: \"))\n",
    "\n",
    "result = 0\n",
    "\n",
    "for num in range(0, iterations):\n",
    "     result += (1 + num * 1)/(1 + num * 2)\n",
    "\n",
    "print(result)"
   ]
  },
  {
   "cell_type": "markdown",
   "metadata": {},
   "source": [
    "8 Mesma letra: Escreva uma função que receba uma string com duas palavras e\n",
    "retorne True se ambas palavras começarem com a mesma letra. Exemplo:\n",
    "mesma_letra('Cão covarde') -> True\n",
    "mesma_letra('Vira Lata') -> False"
   ]
  },
  {
   "cell_type": "code",
   "execution_count": 14,
   "metadata": {},
   "outputs": [
    {
     "name": "stdout",
     "output_type": "stream",
     "text": [
      "True\n",
      "False\n"
     ]
    }
   ],
   "source": [
    "def checkFirstLetter(text):\n",
    "    texts = text.lower().split(\" \")\n",
    "    return texts[0][0] == texts[1][0]\n",
    "\n",
    "checkFirstLetter = maybeMonad(checkFirstLetter)\n",
    "    \n",
    "print(checkFirstLetter(\"Cão covarde\"))\n",
    "print(checkFirstLetter(\"Vira Lata\"))"
   ]
  },
  {
   "cell_type": "markdown",
   "metadata": {},
   "source": [
    "9 Mestre Yoda: Dada uma sentença, a função deve retornar a sentença com as\n",
    "palavras na ordem reversa. Exemplo:\n",
    "mestre_yoda('Eu estou em casa') --> 'casa em estou Eu'\n",
    "mestre_yoda('Estamos prontos') --> 'prontos Estamos'"
   ]
  },
  {
   "cell_type": "code",
   "execution_count": 15,
   "metadata": {},
   "outputs": [
    {
     "name": "stdout",
     "output_type": "stream",
     "text": [
      "Casa em estou eu\n",
      "Prontos estamos\n"
     ]
    }
   ],
   "source": [
    "def mestre_yoda(phrase):\n",
    "    return \" \".join(list(reversed(phrase.lower().split(\" \")))).capitalize()\n",
    "\n",
    "mestre_yoda = maybeMonad(mestre_yoda)\n",
    "\n",
    "print(mestre_yoda(\"Eu estou em casa\"))\n",
    "print(mestre_yoda(\"Estamos prontos\"))"
   ]
  },
  {
   "cell_type": "code",
   "execution_count": null,
   "metadata": {},
   "outputs": [],
   "source": []
  }
 ],
 "metadata": {
  "kernelspec": {
   "display_name": "Python 3",
   "language": "python",
   "name": "python3"
  },
  "language_info": {
   "codemirror_mode": {
    "name": "ipython",
    "version": 3
   },
   "file_extension": ".py",
   "mimetype": "text/x-python",
   "name": "python",
   "nbconvert_exporter": "python",
   "pygments_lexer": "ipython3",
   "version": "3.7.4"
  }
 },
 "nbformat": 4,
 "nbformat_minor": 2
}
