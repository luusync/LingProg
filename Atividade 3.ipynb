{
 "cells": [
  {
   "cell_type": "markdown",
   "metadata": {},
   "source": [
    "1. Faça um Programa que peça dois números e imprima o maior deles."
   ]
  },
  {
   "cell_type": "code",
   "execution_count": 2,
   "metadata": {},
   "outputs": [
    {
     "name": "stdout",
     "output_type": "stream",
     "text": [
      "Digite o primeiro numero:2\n",
      "Digite o segundo numero:6\n",
      "O maior numero é 6\n"
     ]
    }
   ],
   "source": [
    "n1 = int(input(\"Digite o primeiro numero:\"))\n",
    "n2 = int(input(\"Digite o segundo numero:\"))\n",
    "if n1 > n2:\n",
    "    print (\"O maior numero é\",n1)\n",
    "else:\n",
    "    print (\"O maior numero é\",n2)"
   ]
  },
  {
   "cell_type": "markdown",
   "metadata": {},
   "source": [
    "2. Faça um Programa que verifique se uma letra digitada é vogal ou consoante."
   ]
  },
  {
   "cell_type": "code",
   "execution_count": 6,
   "metadata": {},
   "outputs": [
    {
     "name": "stdout",
     "output_type": "stream",
     "text": [
      "Digite uma letra:i\n",
      "Vogal\n"
     ]
    }
   ],
   "source": [
    "letra = str(input(\"Digite uma letra:\"))\n",
    "if letra == \"a\" or letra == \"e\" or letra == \"i\" or letra == \"o\" or letra == \"u\" or letra == \"A\" or letra == \"E\" or letra == \"I\" or letra == \"O\" or letra == \"U\":\n",
    "    print (\"Vogal\")\n",
    "else:\n",
    "    print(\"Consoante\")"
   ]
  },
  {
   "cell_type": "markdown",
   "metadata": {},
   "source": [
    "3. Faça um programa para a leitura de duas notas parciais de um aluno. O programa\n",
    "deve calcular a média alcançada por aluno e apresentar:\n",
    "-A mensagem &quot;Aprovado&quot;, se a média alcançada for maior ou igual a sete;\n",
    "-A mensagem &quot;Reprovado&quot;, se a média for menor do que sete;\n",
    "-A mensagem &quot;Aprovado com Distinção&quot;, se a média for igual a dez."
   ]
  },
  {
   "cell_type": "code",
   "execution_count": 9,
   "metadata": {},
   "outputs": [
    {
     "name": "stdout",
     "output_type": "stream",
     "text": [
      "Digite a primeira nota:10\n",
      "Digite a segunda nota:10\n",
      "A media foi 10.0\n",
      "Aprovado\n"
     ]
    }
   ],
   "source": [
    "nota1 = float(input(\"Digite a primeira nota:\"))\n",
    "nota2 = float(input(\"Digite a segunda nota:\"))\n",
    "media = (nota1 + nota2)/2\n",
    "print (\"A media foi\",media)\n",
    "if media >= 7:\n",
    "    print (\"Aprovado\")\n",
    "elif media > 10:\n",
    "    print (\"Aprovado com Distinção\")\n",
    "else:\n",
    "    print (\"Reprovado\")"
   ]
  },
  {
   "cell_type": "markdown",
   "metadata": {},
   "source": [
    "4. Faça um Programa que leia três números e mostre-os em ordem decrescente."
   ]
  },
  {
   "cell_type": "code",
   "execution_count": 16,
   "metadata": {},
   "outputs": [
    {
     "name": "stdout",
     "output_type": "stream",
     "text": [
      "Digite o primeiro numero:2\n",
      "Digite o segundo numero:6\n",
      "Digite o terceiro numero:9\n",
      "A ordem dos numeros é 9 6 2\n"
     ]
    }
   ],
   "source": [
    "n1 = int(input(\"Digite o primeiro numero:\"))\n",
    "n2 = int(input(\"Digite o segundo numero:\"))\n",
    "n3 = int(input(\"Digite o terceiro numero:\"))\n",
    "if   n1 > n2 and n2 > n3:\n",
    "    print(\"A ordem dos numeros é\",n3 , n2 , n1)\n",
    "elif n2 > n3 and n3 > n1:\n",
    "    print(\"A ordem dos numeros é\",n1 , n3 , n2)\n",
    "elif n3 > n1 and n1 > n2:\n",
    "    print(\"A ordem dos numeros é\",n2 , n1 , n3)\n",
    "else:\n",
    "    print(\"A ordem dos numeros é\",n3 , n2 , n1)"
   ]
  },
  {
   "cell_type": "markdown",
   "metadata": {},
   "source": [
    "5. As Organizações Tabajara resolveram dar um aumento de salário aos seus\n",
    "colaboradores e lhe contrataram para desenvolver o programa que calculará os\n",
    "reajustes.\n",
    "\n",
    "Faça um programa que recebe o salário de um colaborador e o reajuste segundo o\n",
    "seguinte critério, baseado no salário atual:\n",
    "\n",
    "-salários até R$ 280,00 (incluindo) : aumento de 20%\n",
    "\n",
    "-salários entre R$ 280,00 e R$ 700,00 : aumento de 15%\n",
    "\n",
    "-salários entre R$ 700,00 e R$ 1500,00 : aumento de 10%\n",
    "\n",
    "-salários de R$ 1500,00 em diante : aumento de 5% Após o aumento ser realizado\n",
    "\n",
    "informe na tela:\n",
    "-o salário antes do reajuste;\n",
    "-o percentual de aumento aplicado;\n",
    "-o valor do aumento;\n",
    "-o novo salário, após o aumento."
   ]
  },
  {
   "cell_type": "code",
   "execution_count": 27,
   "metadata": {},
   "outputs": [
    {
     "name": "stdout",
     "output_type": "stream",
     "text": [
      "Digite o seu salario:1200\n",
      "O salario antes do reajuste é de R$ 1200\n",
      "O percentual de reajuste é de 10%\n",
      "O valor do aumento é de R$ 120.0\n",
      "Seu novo salario será de R$ 1320.0\n"
     ]
    }
   ],
   "source": [
    "salario = int(input(\"Digite o seu salario:\"))\n",
    "if salario <= 280:\n",
    "    novosal = ((salario/100)*20) + salario\n",
    "    reajP = \"20%\"\n",
    "    reajS = (salario/10)*20\n",
    "elif salario > 280 and salario <= 700:\n",
    "    novosal = ((salario/100)*15) + salario\n",
    "    reajP = \"15%\"\n",
    "    reajS = (salario/100)*15\n",
    "elif salario > 700 and salario <= 1500:\n",
    "    novosal = ((salario/100)*10) + salario\n",
    "    reajP = \"10%\"\n",
    "    reajS = (salario/100)*10\n",
    "else:\n",
    "    novosal = ((salario/100)*5) +salario\n",
    "    reajP = \"5%\"\n",
    "    reajS = (salario/100)*5\n",
    "print (\"O salario antes do reajuste é de R$\",salario)\n",
    "print (\"O percentual de reajuste é de\", reajP)\n",
    "print (\"O valor do aumento é de R$\",reajS,)\n",
    "print (\"Seu novo salario será de R$\",novosal)\n",
    "    "
   ]
  },
  {
   "cell_type": "markdown",
   "metadata": {},
   "source": [
    "6. Faça um Programa que leia um número e exiba o dia correspondente da semana.\n",
    "(1-Domingo, 2- Segunda, etc.), se digitar outro valor deve aparecer valor inválido."
   ]
  },
  {
   "cell_type": "code",
   "execution_count": 29,
   "metadata": {},
   "outputs": [
    {
     "name": "stdout",
     "output_type": "stream",
     "text": [
      "Digite um numero para escolher o dia da semana: 6\n",
      "Sexta\n"
     ]
    }
   ],
   "source": [
    "dia = int(input(\"Digite um numero para escolher o dia da semana: \"))\n",
    "if dia == 1:\n",
    "    print(\"Domingo\")\n",
    "elif dia == 2:\n",
    "    print(\"segunda\")\n",
    "elif dia == 3:\n",
    "    print(\"terça\")\n",
    "elif dia == 4:\n",
    "    print(\"Quarta\")\n",
    "elif dia == 5:\n",
    "    print(\"Quinta\")\n",
    "elif dia == 6:\n",
    "    print(\"Sexta\")\n",
    "elif dia == 7:\n",
    "    print(\"Sabado\")\n",
    "else:\n",
    "    print(\"Dia não encontrado\")\n"
   ]
  },
  {
   "cell_type": "markdown",
   "metadata": {},
   "source": [
    "7. Faça um programa que lê as duas notas parciais obtidas por um aluno numa\n",
    "disciplina ao longo de um semestre, e calcule a sua média. A atribuição de conceitos\n",
    "obedece à tabela abaixo:\n",
    "\n",
    "Média de Aproveitamento Conceito\n",
    "\n",
    "Entre 9.0 e 10.0 A\n",
    "\n",
    "Entre 7.5 e 9.0 B\n",
    "\n",
    "Entre 6.0 e 7.5 C\n",
    "\n",
    "Entre 4.0 e 6.0 D\n",
    "\n",
    "Entre 4.0 e zero E\n",
    "\n",
    "O algoritmo deve mostrar na tela as notas, a média, o conceito correspondente e a\n",
    "mensagem “APROVADO” se o conceito for A, B ou C ou “REPROVADO” se o conceito\n",
    "for D ou E."
   ]
  },
  {
   "cell_type": "code",
   "execution_count": 33,
   "metadata": {},
   "outputs": [
    {
     "name": "stdout",
     "output_type": "stream",
     "text": [
      "Digite a primeira nota: 9.0\n",
      "Digite a segunda nota: 8.5\n",
      "----------------------------------------------\n",
      "A primeira nota foi 9.0\n",
      "A segunda nota foi 8.5\n",
      "A media entre as duas notas foi de 8.75\n",
      "Você tirou um B!\n",
      "APROVADO\n"
     ]
    }
   ],
   "source": [
    "nota1 = float(input(\"Digite a primeira nota: \"))\n",
    "nota2 = float(input(\"Digite a segunda nota: \"))\n",
    "media = (nota1 + nota2)/2\n",
    "print(\"----------------------------------------------\")\n",
    "if media >= 9.0:\n",
    "    print(\"A primeira nota foi\", nota1)\n",
    "    print(\"A segunda nota foi\", nota2)\n",
    "    print(\"A media entre as duas notas foi de\", media)\n",
    "    print(\"Você tirou um A!\")\n",
    "    print(\"APROVADO\")\n",
    "elif media >= 7.5 and media < 9:\n",
    "    print(\"A primeira nota foi\", nota1)\n",
    "    print(\"A segunda nota foi\", nota2)\n",
    "    print(\"A media entre as duas notas foi de\", media)\n",
    "    print(\"Você tirou um B!\")\n",
    "    print(\"APROVADO\")\n",
    "elif media >= 6.0 and media < 7:\n",
    "    print(\"A primeira nota foi\", nota1)\n",
    "    print(\"A segunda nota foi\", nota2)\n",
    "    print(\"A media entre as duas notas foi de\", media)\n",
    "    print(\"Você tirou um C!\")\n",
    "    print(\"APROVADO\")\n",
    "elif media >= 4.0 and media < 6:\n",
    "    print(\"A primeira nota foi\", nota1)\n",
    "    print(\"A segunda nota foi\", nota2)\n",
    "    print(\"A media entre as duas notas foi de\", media)\n",
    "    print(\"Você tirou um D!\")\n",
    "    print(\"REPROVADO\")\n",
    "elif media >= 0 and media < 4:\n",
    "    print(\"A primeira nota foi\", nota1)\n",
    "    print(\"A segunda nota foi\", nota2)\n",
    "    print(\"A media entre as duas notas foi de\", media)\n",
    "    print(\"Você tirou um E!\")\n",
    "    print(\"REPROVADO\")\n",
    "\n",
    "    "
   ]
  },
  {
   "cell_type": "markdown",
   "metadata": {},
   "source": [
    "8. Faça um Programa que peça os 3 lados de um triângulo. O programa deverá\n",
    "informar se os valores podem ser um triângulo. Indique, caso os lados formem um\n",
    "triângulo, se o mesmo é: equilátero, isósceles ou escaleno.\n",
    "Dicas:\n",
    "-Três lados formam um triângulo quando a soma de quaisquer dois lados for maior\n",
    "que o terceiro;\n",
    "-Triângulo Equilátero: três lados iguais;\n",
    "-Triângulo Isósceles: quaisquer dois lados iguais;\n",
    "-Triângulo Escaleno: três lados diferentes;"
   ]
  },
  {
   "cell_type": "code",
   "execution_count": 35,
   "metadata": {},
   "outputs": [
    {
     "name": "stdout",
     "output_type": "stream",
     "text": [
      "Digite o primeiro lado do triangulo: 7.0\n",
      "Digite o segundo lado do triangulo: 7.0\n",
      "Digite o terceiro lado do triangulo: 3.0\n",
      "Isósceles\n"
     ]
    }
   ],
   "source": [
    "lado1 = float(input(\"Digite o primeiro lado do triangulo: \"))\n",
    "lado2 = float(input(\"Digite o segundo lado do triangulo: \"))\n",
    "lado3 = float(input(\"Digite o terceiro lado do triangulo: \"))\n",
    "if lado1 > (lado2 + lado3) or lado2 > (lado3 + lado1) or lado3 > (lado1 + lado2):\n",
    "    print(\"Os valores indicados não podem formar um triangulo\")\n",
    "elif lado1 == lado2 == lado3:\n",
    "    print(\"Equilátero\")\n",
    "elif lado1 == lado2 or lado1 == lado3 or lado2 == lado3:\n",
    "    print(\"Isósceles\")\n",
    "else:\n",
    "    print(\"Escaleno\")"
   ]
  },
  {
   "cell_type": "markdown",
   "metadata": {},
   "source": [
    "9. Faça um programa que calcule as raízes de uma equação do segundo grau, na\n",
    "forma ax2 + bx + c. O programa deverá pedir os valores de a, b e c e fazer as\n",
    "consistências, informando ao usuário nas seguintes situações:\n",
    "\n",
    " Se o usuário informar o valor de A igual a zero, a equação não é do segundo grau e\n",
    "o programa não deve fazer pedir os demais valores, sendo encerrado;\n",
    "\n",
    " Se o delta calculado for negativo, a equação não possui raizes reais. Informe ao\n",
    "usuário e encerre o programa;\n",
    "\n",
    " Se o delta calculado for igual a zero a equação possui apenas uma raiz real;\n",
    "informe-a ao usuário;\n",
    "\n",
    " Se o delta for positivo, a equação possui duas raiz reais; informe-as ao usuário;"
   ]
  },
  {
   "cell_type": "code",
   "execution_count": 38,
   "metadata": {},
   "outputs": [
    {
     "name": "stdout",
     "output_type": "stream",
     "text": [
      "Digite o A da equeção: 2\n",
      "Digite o B da equeção: 6\n",
      "Digite o C da equeção: 3\n",
      "Raizes:  -0.6339745962155614  e  -2.3660254037844384\n"
     ]
    }
   ],
   "source": [
    "import math\n",
    "a = int(input(\"Digite o A da equeção: \"))\n",
    "b = int(input(\"Digite o B da equeção: \"))\n",
    "c = int(input(\"Digite o C da equeção: \"))\n",
    "if a == 0:\n",
    "    print(\"a equação não é do segundo grau\")\n",
    "else:\n",
    "    delta = b*b - (4*a*c)\n",
    "if delta < 0:\n",
    "    print(\" a equação não possui raizes reais\")\n",
    "elif delta == 0:\n",
    "    raiz = -b / (2*a)\n",
    "    print(\"Delta = 0 e a raiz é\", raiz)\n",
    "else:\n",
    "    raiz1 = (-b + math.sqrt(delta) ) / (2*a)\n",
    "    raiz2 = (-b - math.sqrt(delta) ) / (2*a)    \n",
    "    print('Raizes: ',raiz1,' e ',raiz2)"
   ]
  },
  {
   "cell_type": "markdown",
   "metadata": {},
   "source": [
    "10. Faça um Programa para um caixa eletrônico. O programa deverá perguntar ao\n",
    "usuário a valor do saque e depois informar quantas notas de cada valor serão\n",
    "fornecidas. As notas disponíveis serão as de 1, 5, 10, 50 e 100 reais. O valor mínimo é\n",
    "de 10 reais e o máximo de 600 reais. O programa não deve se preocupar com a\n",
    "quantidade de notas existentes na máquina.\n",
    "\n",
    "Exemplo 1: Para sacar a quantia de 256 reais, o programa fornece duas notas de\n",
    "100, uma nota de 50, uma nota de 5 e uma nota de 1;\n",
    "\n",
    "Exemplo 2: Para sacar a quantia de 399 reais, o programa fornece três notas de\n",
    "100, uma nota de 50, quatro notas de 10, uma nota de 5 e quatro notas de 1."
   ]
  },
  {
   "cell_type": "code",
   "execution_count": 41,
   "metadata": {},
   "outputs": [
    {
     "name": "stdout",
     "output_type": "stream",
     "text": [
      "Digite quanto você quer sacar: 560\n",
      "Notas R$100,00 =  5\n",
      "Notas R$ 50,00 =  1\n",
      "Notas R$ 10,00 =  1\n",
      "Notas R$  5,00 =  0\n",
      "Notas R$  1,00 =  0\n"
     ]
    }
   ],
   "source": [
    "numero = int(input(\"Digite quanto você quer sacar: \"))\n",
    "cem = int(numero / 100)\n",
    "numero = numero % 100    \n",
    "cinq = int(numero/50)\n",
    "numero = numero % 50\n",
    "dez = int(numero/10)\n",
    "numero = numero % 10\n",
    "cinco = int(numero/5)\n",
    "numero = numero % 5\n",
    "um = numero\n",
    "    \n",
    "print('Notas R$100,00 = ',cem)\n",
    "print('Notas R$ 50,00 = ',cinq)\n",
    "print('Notas R$ 10,00 = ',dez)\n",
    "print('Notas R$  5,00 = ',cinco)\n",
    "print('Notas R$  1,00 = ',um)"
   ]
  },
  {
   "cell_type": "markdown",
   "metadata": {},
   "source": [
    "11. Faça um programa que faça 5 perguntas para uma pessoa sobre um crime. As\n",
    "perguntas são:\n",
    "&quot;Telefonou para a vítima?&quot;\n",
    "&quot;Esteve no local do crime?&quot;\n",
    "&quot;Mora perto da vítima?&quot;\n",
    "&quot;Devia para a vítima?&quot;\n",
    "&quot;Já trabalhou com a vítima?&quot;\n",
    "O programa deve no final emitir uma classificação sobre a participação da pessoa no\n",
    "crime. Se a pessoa responder positivamente a 2 questões ela deve ser classificada\n",
    "como &quot;Suspeita&quot;, entre 3 e 4 como &quot;Cúmplice&quot; e 5 como &quot;Assassino&quot;. Caso contrário,\n",
    "ele será classificado como &quot;Inocente&quot;."
   ]
  },
  {
   "cell_type": "code",
   "execution_count": 15,
   "metadata": {},
   "outputs": [
    {
     "name": "stdout",
     "output_type": "stream",
     "text": [
      "Você telefonou para a vitima ?s\n",
      "Você esteve no local do crime ?n\n",
      "Você mora perto da vitima ?n\n",
      "Você devia para a vitima ?n\n",
      "Você já trabalhou com a vitima ?n\n",
      "Inocente\n"
     ]
    }
   ],
   "source": [
    "count = 0\n",
    "perg = str(input(\"Você telefonou para a vitima ?\"))\n",
    "perg.lower()\n",
    "if perg == \"sim\" or perg == \"s\":\n",
    "    count = count + 1\n",
    "perg = str(input(\"Você esteve no local do crime ?\"))\n",
    "perg.lower()\n",
    "if perg == \"sim\" or perg == \"s\":\n",
    "    count = count + 1\n",
    "perg = str(input(\"Você mora perto da vitima ?\"))\n",
    "perg.lower()\n",
    "if perg == \"sim\" or perg == \"s\":\n",
    "    count = count + 1\n",
    "perg = str(input(\"Você devia para a vitima ?\"))\n",
    "perg.lower()\n",
    "if perg == \"sim\" or perg == \"s\":\n",
    "    count = count + 1\n",
    "perg = str(input(\"Você já trabalhou com a vitima ?\"))\n",
    "perg.lower()\n",
    "if perg == \"sim\" or perg == \"s\":\n",
    "    count = count + 1\n",
    "if count == 2:\n",
    "    print (\"Suspeito(a)\")\n",
    "if count == 3 or count == 4:\n",
    "    print (\"Cumplice\") \n",
    "if count == 5:\n",
    "    print (\"Assassino\")\n",
    "else:\n",
    "    print (\"Inocente\")"
   ]
  },
  {
   "cell_type": "markdown",
   "metadata": {},
   "source": [
    "12 Uma fruteira está vendendo frutas com a seguinte tabela de preços:\n",
    "\n",
    "            Até 5 Kg        Acima de 5 Kg   \n",
    "Morango     R$ 2,50 por     Kg R$ 2,20 por Kg   \n",
    "Maçã        R$ 1,80 por     Kg R$ 1,50 por Kg    \n",
    "\n",
    "Se o cliente comprar mais de 8 Kg em frutas ou o valor total da compra ultrapassar R$ 25,00, receberá ainda um desconto de 10% sobre este total. Escreva um algoritmo para ler a quantidade (em Kg) de morangos e a quantidade (em Kg) de maças adquiridas e escreva o valor a ser pago pelo cliente."
   ]
  },
  {
   "cell_type": "code",
   "execution_count": 1,
   "metadata": {},
   "outputs": [
    {
     "name": "stdout",
     "output_type": "stream",
     "text": [
      "Digite quantos kilos de morango:5\n",
      "Digite quantos kilos de maçã: 7\n"
     ]
    }
   ],
   "source": [
    "def preco_morango(kilos):\n",
    "    if(kilos < 5):\n",
    "        return kilos * 2.50\n",
    "    else:\n",
    "        return kilos * 2.20\n",
    "\n",
    "#funcao que calcula o valor do preco da maca\n",
    "def preco_maca(kilos):\n",
    "    if(kilos < 5):\n",
    "        return kilos * 1.80\n",
    "    else:\n",
    "        return kilos * 1.50\n",
    "\n",
    "#funcao que retorna uma soma\n",
    "def soma(morango, maca):\n",
    "    return morango + maca\n",
    "\n",
    "morango = float(input(\"Digite quantos kilos de morango:\"))\n",
    "maca = float(input(\"Digite quantos kilos de maçã: \"))\n",
    "\n",
    "\n",
    "preco_mor = preco_morango(morango)\n",
    "preco_mac = preco_maca(maca)\n",
    "\n",
    "if(soma(morango, maca) >= 8 or soma(preco_mor, preco_mac) >= 25):\n",
    "    desconto = 0.10\n",
    "    preco_fim = soma(preco_mor, preco_mac) * (1 - desconto)\n",
    "else:\n",
    "    desconto = 0.00\n",
    "    preco_fim = soma(preco_mor, preco_mac)\n",
    "    print(\n",
    "     f'Quantidade de Morangos - KG: {morango} \\tPreco: R$ {preco_mor} \\n'\n",
    "     + f'Quantidade de Maçãs    - KG: {maca} \\tPreco: R$ {preco_mac} \\n'\n",
    "     + f'Preço total dos dois:  R$ {preco_mac + preco_mor} \\n'\n",
    "     + 'Desconto: %d %% \\n' %(desconto*100)\n",
    "     + 'Preço final da compra: R$ %.2f'%(preco_fim))"
   ]
  },
  {
   "cell_type": "markdown",
   "metadata": {},
   "source": [
    "13 Faça um programa que peça uma nota, entre zero e dez. Mostre uma mensagem caso o valor seja inválido e continue pedindo até que o usuário informe um valor válido."
   ]
  },
  {
   "cell_type": "code",
   "execution_count": 2,
   "metadata": {},
   "outputs": [
    {
     "name": "stdout",
     "output_type": "stream",
     "text": [
      "Digite uma nota de 0 a 10: 8\n",
      "Nota: 8.0\n"
     ]
    }
   ],
   "source": [
    "nota = float(input(\"Digite uma nota de 0 a 10: \"))\n",
    "\n",
    "while nota > 10 or nota < 0:\n",
    "    print('Valor inválido')\n",
    "    nota = float(input('Digite uma nota de \"0 a 10\": '))\n",
    "\n",
    "print(f'Nota: {nota}')"
   ]
  },
  {
   "cell_type": "markdown",
   "metadata": {},
   "source": [
    "14 Faça um programa que leia 5 números e informe o maior número."
   ]
  },
  {
   "cell_type": "code",
   "execution_count": 3,
   "metadata": {},
   "outputs": [
    {
     "name": "stdout",
     "output_type": "stream",
     "text": [
      "Digite o 1º numero: 3\n",
      "Digite o 2º numero: 5\n",
      "Digite o 3º numero: 8\n",
      "Digite o 4º numero: 9\n",
      "Digite o 5º numero: 0\n",
      "Os numeros digitados foram: [3, 5, 8, 9, 0]\n",
      "O maior número foi: 9\n"
     ]
    }
   ],
   "source": [
    "numeros = [int(input(f'Digite o {x+1}º numero: ')) for x in range(5)]\n",
    "\n",
    "print('Os numeros digitados foram:',numeros)\n",
    "print(f'O maior número foi: {max(numeros)}')"
   ]
  },
  {
   "cell_type": "markdown",
   "metadata": {},
   "source": [
    "15 Faça um programa que leia 5 números e informe a soma e a média dos números."
   ]
  },
  {
   "cell_type": "code",
   "execution_count": 4,
   "metadata": {},
   "outputs": [
    {
     "name": "stdout",
     "output_type": "stream",
     "text": [
      "Digite o 1º numero: 2\n",
      "Digite o 2º numero: 5\n",
      "Digite o 3º numero: 7\n",
      "Digite o 4º numero: 8\n",
      "Digite o 5º numero: 6\n",
      "Os numeros digitados foram: [2, 5, 7, 8, 6]\n",
      "A SOMA dos numeros: 28\n",
      "A MEDIA dos numeros: 5.6\n"
     ]
    }
   ],
   "source": [
    "numeros = [int(input(f'Digite o {x+1}º numero: ')) for x in range(5)]\n",
    "\n",
    "soma = sum(numeros)\n",
    "\n",
    "print('Os numeros digitados foram:',numeros)\n",
    "print('A SOMA dos numeros:', soma)\n",
    "print('A MEDIA dos numeros:', soma / 5)"
   ]
  },
  {
   "cell_type": "markdown",
   "metadata": {},
   "source": [
    "16 Faça um programa que imprima na tela apenas os números ímpares entre 1 e 50."
   ]
  },
  {
   "cell_type": "code",
   "execution_count": 5,
   "metadata": {},
   "outputs": [
    {
     "name": "stdout",
     "output_type": "stream",
     "text": [
      "[1, 3, 5, 7, 9, 11, 13, 15, 17, 19, 21, 23, 25, 27, 29, 31, 33, 35, 37, 39, 41, 43, 45, 47, 49]\n"
     ]
    }
   ],
   "source": [
    "print([x for x in range(1, 51)][::2])\n"
   ]
  },
  {
   "cell_type": "markdown",
   "metadata": {},
   "source": [
    "17 Desenvolva um gerador de tabuada, capaz de gerar a tabuada de qualquer número inteiro entre 1 a 10. O usuário deve informar de qual numero ele deseja ver a tabuada. A saída deve ser conforme o exemplo abaixo:\n",
    "\n",
    "Tabuada de 5:\n",
    "5 X 1 = 5\n",
    "5 X 2 = 10\n",
    "...\n",
    "5 X 10 = 50"
   ]
  },
  {
   "cell_type": "code",
   "execution_count": 6,
   "metadata": {},
   "outputs": [
    {
     "name": "stdout",
     "output_type": "stream",
     "text": [
      "Insira o número da tabuada: 2\n",
      "2 X 1 = 2\n",
      "2 X 2 = 4\n",
      "2 X 3 = 6\n",
      "2 X 4 = 8\n",
      "2 X 5 = 10\n",
      "2 X 6 = 12\n",
      "2 X 7 = 14\n",
      "2 X 8 = 16\n",
      "2 X 9 = 18\n",
      "2 X 10 = 20\n"
     ]
    }
   ],
   "source": [
    "tabuada = int(input(\"Insira o número da tabuada: \"))\n",
    "for mt in range(1, 11):\n",
    "    res = mt*tabuada\n",
    "    print(f\"{tabuada} X {mt} = {res}\")"
   ]
  },
  {
   "cell_type": "markdown",
   "metadata": {},
   "source": [
    "18 A série de Fibonacci é formada pela seqüência 1,1,2,3,5,8,13,21,34,55,... Faça um programa capaz de gerar a série até o n−ésimo termo."
   ]
  },
  {
   "cell_type": "code",
   "execution_count": 8,
   "metadata": {},
   "outputs": [
    {
     "name": "stdout",
     "output_type": "stream",
     "text": [
      "Digite até qual termo a série será gerada:6\n",
      "0\n",
      "1\n",
      "1\n",
      "2\n",
      "3\n",
      "5\n"
     ]
    }
   ],
   "source": [
    "a = 0\n",
    "b = 1\n",
    "nesimo = int(input(\"Digite até qual termo a série será gerada:\"))\n",
    "for i in range(nesimo):\n",
    "    print(a)\n",
    "    aux = b\n",
    "    b = a + b\n",
    "    a = aux"
   ]
  },
  {
   "cell_type": "markdown",
   "metadata": {},
   "source": [
    "19 Faça um programa que calcule o fatorial de um número inteiro fornecido pelo usuário.\n",
    "Ex.: 5!=5.4.3.2.1=120"
   ]
  },
  {
   "cell_type": "code",
   "execution_count": 9,
   "metadata": {},
   "outputs": [
    {
     "name": "stdout",
     "output_type": "stream",
     "text": [
      "Insira um número: 3\n",
      "O fatorial de 3 é:\n",
      "3! = [3, 2, 1] = 6\n"
     ]
    }
   ],
   "source": [
    "fat_num = int(input(\"Insira um número: \"))\n",
    "fat_numero = fat_num\n",
    "numeros = []\n",
    "fatorial = 1\n",
    "\n",
    "while(fat_num > 0):\n",
    "    numeros.append(fat_num)\n",
    "    fat_num -= 1\n",
    "\n",
    "for n in numeros:\n",
    "    fatorial *= n\n",
    "\n",
    "print(f'O fatorial de {fat_numero} é:')\n",
    "print (f'{fat_numero}! = {numeros} = {fatorial}')"
   ]
  },
  {
   "cell_type": "markdown",
   "metadata": {},
   "source": [
    "20 O Sr. Manoel Joaquim possui uma grande loja de artigos de R$ 1,99, com cerca de 10 caixas. Para agilizar o cálculo de quanto cada cliente deve pagar ele desenvolveu um tabela que contém o número de itens que o cliente comprou e ao lado o valor da conta. Desta forma a atendente do caixa precisa apenas contar quantos itens o cliente está levando e olhar na tabela de preços. Você foi contratado para desenvolver o programa que monta esta tabela de preços, que conterá os preços de 1 até 50 produtos, conforme o exemplo abaixo:\n",
    "\n",
    "Lojas Quase Dois - Tabela de preços\n",
    "1 - RS 1.99\n",
    "2 - RS 3.98\n",
    "...\n",
    "50 - RS 99.50"
   ]
  },
  {
   "cell_type": "code",
   "execution_count": 10,
   "metadata": {},
   "outputs": [
    {
     "name": "stdout",
     "output_type": "stream",
     "text": [
      "Lojas Quase Dois - Tabela de preços\n",
      "1 - R$ 1.99\n",
      "2 - R$ 3.98\n",
      "3 - R$ 5.97\n",
      "4 - R$ 7.96\n",
      "5 - R$ 9.95\n",
      "6 - R$ 11.94\n",
      "7 - R$ 13.93\n",
      "8 - R$ 15.92\n",
      "9 - R$ 17.91\n",
      "10 - R$ 19.90\n",
      "11 - R$ 21.89\n",
      "12 - R$ 23.88\n",
      "13 - R$ 25.87\n",
      "14 - R$ 27.86\n",
      "15 - R$ 29.85\n",
      "16 - R$ 31.84\n",
      "17 - R$ 33.83\n",
      "18 - R$ 35.82\n",
      "19 - R$ 37.81\n",
      "20 - R$ 39.80\n",
      "21 - R$ 41.79\n",
      "22 - R$ 43.78\n",
      "23 - R$ 45.77\n",
      "24 - R$ 47.76\n",
      "25 - R$ 49.75\n",
      "26 - R$ 51.74\n",
      "27 - R$ 53.73\n",
      "28 - R$ 55.72\n",
      "29 - R$ 57.71\n",
      "30 - R$ 59.70\n",
      "31 - R$ 61.69\n",
      "32 - R$ 63.68\n",
      "33 - R$ 65.67\n",
      "34 - R$ 67.66\n",
      "35 - R$ 69.65\n",
      "36 - R$ 71.64\n",
      "37 - R$ 73.63\n",
      "38 - R$ 75.62\n",
      "39 - R$ 77.61\n",
      "40 - R$ 79.60\n",
      "41 - R$ 81.59\n",
      "42 - R$ 83.58\n",
      "43 - R$ 85.57\n",
      "44 - R$ 87.56\n",
      "45 - R$ 89.55\n",
      "46 - R$ 91.54\n",
      "47 - R$ 93.53\n",
      "48 - R$ 95.52\n",
      "49 - R$ 97.51\n",
      "50 - R$ 99.50\n"
     ]
    }
   ],
   "source": [
    "print('Lojas Quase Dois - Tabela de preços')\n",
    "for i in range(1, 51):\n",
    "    preco = i * 1.99\n",
    "    print(f'{i} - R$ {preco:.2f}')"
   ]
  },
  {
   "cell_type": "code",
   "execution_count": null,
   "metadata": {},
   "outputs": [],
   "source": []
  }
 ],
 "metadata": {
  "kernelspec": {
   "display_name": "Python 3",
   "language": "python",
   "name": "python3"
  },
  "language_info": {
   "codemirror_mode": {
    "name": "ipython",
    "version": 3
   },
   "file_extension": ".py",
   "mimetype": "text/x-python",
   "name": "python",
   "nbconvert_exporter": "python",
   "pygments_lexer": "ipython3",
   "version": "3.7.4"
  }
 },
 "nbformat": 4,
 "nbformat_minor": 2
}
