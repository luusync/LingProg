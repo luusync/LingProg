{
 "cells": [
  {
   "cell_type": "markdown",
   "metadata": {},
   "source": [
    "1 Menor de dois pares: Escreva uma função que retorne o menor de dois números dados se ambos os números forem pares, mas retorna o maior se um dos dois for ímpar. Exemplo:\n",
    "menor_de_dois_pares(2,4) --> 2\n",
    "menor_de_dois_pares (2,5) --> 5"
   ]
  },
  {
   "cell_type": "code",
   "execution_count": null,
   "metadata": {},
   "outputs": [],
   "source": [
    "num1 = int(input('Insira um numero:'))\n",
    "num2 = int(input('Insira outro numero:'))\n",
    "\n",
    "def menor_de_dois_pares(num1,num2):\n",
    "    if num1 % 2 == 0 and num2 % 2 == 0:\n",
    "        if num1 < num2:\n",
    "            return num1\n",
    "        else:\n",
    "            return num2\n",
    "    else:\n",
    "        if num1 > num2:\n",
    "            return num1\n",
    "        else:\n",
    "            return num2\n",
    "\n",
    "print(f'menor_de_dois_pares({num1}, {num2}) --> {menor_de_dois_pares(num1,num2)}')"
   ]
  },
  {
   "cell_type": "markdown",
   "metadata": {},
   "source": [
    "2 Mesma letra: Escreva uma função que receba uma string com duas palavras e retorne True se ambas palavras começarem com a mesma letra. Exemplo:\n",
    "mesma_letra('Cão covarde') -> True\n",
    "mesma_letra('Vira Lata') -> False"
   ]
  },
  {
   "cell_type": "code",
   "execution_count": null,
   "metadata": {},
   "outputs": [],
   "source": [
    "p1 = input('Insira uma palavra:')\n",
    "p2 = input('Insira outra palavra:')\n",
    "\n",
    "l1 = list(p1)\n",
    "l2 = list(p2)\n",
    "\n",
    "def mesma_letra(l1,l2):\n",
    "    if l1[0]== l2[0]:\n",
    "        return True\n",
    "    else:\n",
    "        return False\n",
    "\n",
    "print(f\"mesma_letra('{p1} {p2}') --> {mesma_letra(l1,l2)}\")"
   ]
  },
  {
   "cell_type": "markdown",
   "metadata": {},
   "source": [
    "3 - Mestre Yoda: Dada uma sentença, a função deve retornar a sentença com as palavras na ordem reversa. Exemplo:\n",
    "\n",
    "mestre_yoda('Eu estou em casa') --> 'casa em estou Eu' mestre_yoda('Estamos prontos') --> 'prontos Estamos'"
   ]
  },
  {
   "cell_type": "code",
   "execution_count": null,
   "metadata": {},
   "outputs": [],
   "source": [
    "def mestre_yoda(frase):\n",
    "    lista_invertida = []\n",
    "    frase_invertida = ''\n",
    "    x = len(frase) - 1\n",
    "    i = 0\n",
    "    while (x>=0):\n",
    "        lista_invertida += [frase[x]]\n",
    "        frase_invertida += lista_invertida[i] + ' '\n",
    "        i += 1\n",
    "        x -= 1\n",
    "    print(frase_invertida)\n",
    "        \n",
    "sentence = input(\"Digite uma setença: \").split()\n",
    "mestre_yoda(sentence)"
   ]
  },
  {
   "cell_type": "markdown",
   "metadata": {},
   "source": [
    "4 - Tem 33: Faça uma função que retorne True se, dada uma lista de inteiros, houver em alguma posição da lista um 3 do lado de outro 3. Exemplo:\n",
    "\n",
    "tem_33([1,3,3]) --> True tem_33([1,3,1,3]) --> False tem_33([3,1,3]) --> False"
   ]
  },
  {
   "cell_type": "code",
   "execution_count": null,
   "metadata": {},
   "outputs": [],
   "source": [
    "def tem_33(lista):\n",
    "    i = 0\n",
    "    b = False\n",
    "    valor_anterior = 0\n",
    "    for x in lista:\n",
    "        if(x == '3'):\n",
    "            if(valor_anterior == '3'):\n",
    "                b = True\n",
    "                print(b)\n",
    "                break\n",
    "        valor_anterior = x\n",
    "        i += 1\n",
    "    if(b == False):\n",
    "        print(b)\n",
    "\n",
    "lista = list(input(\"Digite uma lista de números separados por expaço: \").split(\" \"))\n",
    "tem_33(lista)"
   ]
  },
  {
   "cell_type": "markdown",
   "metadata": {},
   "source": [
    "5 - Blackjack: Faça uma função que receba 3 inteiros entre 1 e 11. Se a soma deles for menor que 21, retorne o valor da soma. Se for mair do que 21 e houver um 11, subtraia 10 da soma antes de apresentar o resultado. Se o valor da soma passar de 21, retorne ‘ESTOUROU’. Exemplo:\n",
    "\n",
    "blackjack(5,6,7) --> 18 blackjack(9,9,9) --> 'ESTOUROU' blackjack(9,9,11) --> 19"
   ]
  },
  {
   "cell_type": "code",
   "execution_count": null,
   "metadata": {},
   "outputs": [],
   "source": [
    "    soma = a + b + c\n",
    "    if(a>11 or a<1 or b>11 or b<1 or c>11 or c<1):\n",
    "        print(\"Somente valores inteiros entre 0 e 11\")\n",
    "    else:\n",
    "        if(soma <= 21):\n",
    "            print(soma)\n",
    "        else:\n",
    "            if(a == 11 or b == 11 or c == 11):\n",
    "                soma = soma - 10\n",
    "                if(soma <= 21):\n",
    "                    print(soma)\n",
    "                else:\n",
    "                    print('ESTOUROU')\n",
    "            else:\n",
    "                print('ESTOUROU')\n",
    "\n",
    "x1 = int(input(\"Digite o valor da primeira carta: \"))\n",
    "x2 = int(input(\"Digite o valor da segunda carta: \"))\n",
    "x3 = int(input(\"Digite o valor da terceira carta: \"))\n",
    "blackjack(x1,x2,x3)"
   ]
  },
  {
   "cell_type": "code",
   "execution_count": null,
   "metadata": {},
   "outputs": [],
   "source": []
  }
 ],
 "metadata": {
  "kernelspec": {
   "display_name": "Python 3",
   "language": "python",
   "name": "python3"
  },
  "language_info": {
   "codemirror_mode": {
    "name": "ipython",
    "version": 3
   },
   "file_extension": ".py",
   "mimetype": "text/x-python",
   "name": "python",
   "nbconvert_exporter": "python",
   "pygments_lexer": "ipython3",
   "version": "3.7.4"
  }
 },
 "nbformat": 4,
 "nbformat_minor": 2
}
